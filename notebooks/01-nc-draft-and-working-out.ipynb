{
 "cells": [
  {
   "cell_type": "code",
   "execution_count": 1,
   "metadata": {},
   "outputs": [],
   "source": [
    "import pandas as pd\n",
    "import numpy as np\n",
    "import re\n",
    "import xlrd\n",
    "import pickle\n",
    "import os\n",
    "import requests\n",
    "# from bs4 import BeautifulSoup\n",
    "# or import bs4 as bs\n",
    "# import json"
   ]
  },
  {
   "cell_type": "code",
   "execution_count": null,
   "metadata": {},
   "outputs": [],
   "source": []
  },
  {
   "cell_type": "code",
   "execution_count": 2,
   "metadata": {},
   "outputs": [],
   "source": [
    "# setting directories for file loads and saves\n",
    "logs_dir = \"../data/logs/\"\n",
    "raw_dir = \"../data/raw/\"\n",
    "load_dir = save_dir = \"../data/interim/\"\n",
    "final_dir = \"../data/processed/\""
   ]
  },
  {
   "cell_type": "code",
   "execution_count": 6,
   "metadata": {},
   "outputs": [
    {
     "data": {
      "text/html": [
       "<div>\n",
       "<style scoped>\n",
       "    .dataframe tbody tr th:only-of-type {\n",
       "        vertical-align: middle;\n",
       "    }\n",
       "\n",
       "    .dataframe tbody tr th {\n",
       "        vertical-align: top;\n",
       "    }\n",
       "\n",
       "    .dataframe thead th {\n",
       "        text-align: right;\n",
       "    }\n",
       "</style>\n",
       "<table border=\"1\" class=\"dataframe\">\n",
       "  <thead>\n",
       "    <tr style=\"text-align: right;\">\n",
       "      <th></th>\n",
       "      <th>calendar_year</th>\n",
       "      <th>school_id</th>\n",
       "      <th>school_name</th>\n",
       "      <th>suburb</th>\n",
       "      <th>state</th>\n",
       "      <th>postcode</th>\n",
       "      <th>school_sector</th>\n",
       "      <th>school_type</th>\n",
       "      <th>icsea</th>\n",
       "      <th>bottom_sea_quarter</th>\n",
       "      <th>lower_middle_sea_quarter</th>\n",
       "      <th>upper_middle_sea_quarter</th>\n",
       "      <th>top_sea_quarter</th>\n",
       "      <th>fte_teachers</th>\n",
       "      <th>fte_other_staff</th>\n",
       "      <th>total_enrolments</th>\n",
       "      <th>girls_enrolments</th>\n",
       "      <th>boys_enrolments</th>\n",
       "      <th>indigenous_enrolments</th>\n",
       "      <th>lote</th>\n",
       "    </tr>\n",
       "  </thead>\n",
       "  <tbody>\n",
       "    <tr>\n",
       "      <th>0</th>\n",
       "      <td>2008</td>\n",
       "      <td>40000</td>\n",
       "      <td>Corpus Christi Catholic School</td>\n",
       "      <td>BELLERIVE</td>\n",
       "      <td>TAS</td>\n",
       "      <td>7018</td>\n",
       "      <td>Catholic</td>\n",
       "      <td>Primary</td>\n",
       "      <td>1055.0</td>\n",
       "      <td>13.0</td>\n",
       "      <td>19.0</td>\n",
       "      <td>37.0</td>\n",
       "      <td>31.0</td>\n",
       "      <td>19.0</td>\n",
       "      <td>6.9</td>\n",
       "      <td>410.0</td>\n",
       "      <td>185.0</td>\n",
       "      <td>225.0</td>\n",
       "      <td>1.0</td>\n",
       "      <td>NaN</td>\n",
       "    </tr>\n",
       "    <tr>\n",
       "      <th>1</th>\n",
       "      <td>2009</td>\n",
       "      <td>40000</td>\n",
       "      <td>Corpus Christi Catholic School</td>\n",
       "      <td>BELLERIVE</td>\n",
       "      <td>TAS</td>\n",
       "      <td>7018</td>\n",
       "      <td>Catholic</td>\n",
       "      <td>Primary</td>\n",
       "      <td>1055.0</td>\n",
       "      <td>13.0</td>\n",
       "      <td>19.0</td>\n",
       "      <td>37.0</td>\n",
       "      <td>31.0</td>\n",
       "      <td>19.1</td>\n",
       "      <td>8.7</td>\n",
       "      <td>409.0</td>\n",
       "      <td>184.0</td>\n",
       "      <td>225.0</td>\n",
       "      <td>2.0</td>\n",
       "      <td>3.0</td>\n",
       "    </tr>\n",
       "    <tr>\n",
       "      <th>2</th>\n",
       "      <td>2010</td>\n",
       "      <td>40000</td>\n",
       "      <td>Corpus Christi Catholic School</td>\n",
       "      <td>BELLERIVE</td>\n",
       "      <td>TAS</td>\n",
       "      <td>7018</td>\n",
       "      <td>Catholic</td>\n",
       "      <td>Primary</td>\n",
       "      <td>1044.0</td>\n",
       "      <td>28.0</td>\n",
       "      <td>19.0</td>\n",
       "      <td>30.0</td>\n",
       "      <td>23.0</td>\n",
       "      <td>18.6</td>\n",
       "      <td>10.2</td>\n",
       "      <td>392.0</td>\n",
       "      <td>173.0</td>\n",
       "      <td>219.0</td>\n",
       "      <td>2.0</td>\n",
       "      <td>4.0</td>\n",
       "    </tr>\n",
       "    <tr>\n",
       "      <th>3</th>\n",
       "      <td>2011</td>\n",
       "      <td>40000</td>\n",
       "      <td>Corpus Christi Catholic School</td>\n",
       "      <td>BELLERIVE</td>\n",
       "      <td>TAS</td>\n",
       "      <td>7018</td>\n",
       "      <td>Catholic</td>\n",
       "      <td>Primary</td>\n",
       "      <td>1046.0</td>\n",
       "      <td>19.0</td>\n",
       "      <td>30.0</td>\n",
       "      <td>25.0</td>\n",
       "      <td>25.0</td>\n",
       "      <td>18.1</td>\n",
       "      <td>9.0</td>\n",
       "      <td>385.0</td>\n",
       "      <td>173.0</td>\n",
       "      <td>212.0</td>\n",
       "      <td>0.0</td>\n",
       "      <td>2.0</td>\n",
       "    </tr>\n",
       "    <tr>\n",
       "      <th>4</th>\n",
       "      <td>2012</td>\n",
       "      <td>40000</td>\n",
       "      <td>Corpus Christi Catholic School</td>\n",
       "      <td>BELLERIVE</td>\n",
       "      <td>TAS</td>\n",
       "      <td>7018</td>\n",
       "      <td>Catholic</td>\n",
       "      <td>Primary</td>\n",
       "      <td>1041.0</td>\n",
       "      <td>9.0</td>\n",
       "      <td>35.0</td>\n",
       "      <td>28.0</td>\n",
       "      <td>28.0</td>\n",
       "      <td>18.1</td>\n",
       "      <td>9.4</td>\n",
       "      <td>391.0</td>\n",
       "      <td>185.0</td>\n",
       "      <td>206.0</td>\n",
       "      <td>1.0</td>\n",
       "      <td>5.0</td>\n",
       "    </tr>\n",
       "  </tbody>\n",
       "</table>\n",
       "</div>"
      ],
      "text/plain": [
       "   calendar_year  school_id                     school_name     suburb state  \\\n",
       "0           2008      40000  Corpus Christi Catholic School  BELLERIVE   TAS   \n",
       "1           2009      40000  Corpus Christi Catholic School  BELLERIVE   TAS   \n",
       "2           2010      40000  Corpus Christi Catholic School  BELLERIVE   TAS   \n",
       "3           2011      40000  Corpus Christi Catholic School  BELLERIVE   TAS   \n",
       "4           2012      40000  Corpus Christi Catholic School  BELLERIVE   TAS   \n",
       "\n",
       "   postcode school_sector school_type   icsea  bottom_sea_quarter  \\\n",
       "0      7018      Catholic     Primary  1055.0                13.0   \n",
       "1      7018      Catholic     Primary  1055.0                13.0   \n",
       "2      7018      Catholic     Primary  1044.0                28.0   \n",
       "3      7018      Catholic     Primary  1046.0                19.0   \n",
       "4      7018      Catholic     Primary  1041.0                 9.0   \n",
       "\n",
       "   lower_middle_sea_quarter  upper_middle_sea_quarter  top_sea_quarter  \\\n",
       "0                      19.0                      37.0             31.0   \n",
       "1                      19.0                      37.0             31.0   \n",
       "2                      19.0                      30.0             23.0   \n",
       "3                      30.0                      25.0             25.0   \n",
       "4                      35.0                      28.0             28.0   \n",
       "\n",
       "   fte_teachers  fte_other_staff  total_enrolments  girls_enrolments  \\\n",
       "0          19.0              6.9             410.0             185.0   \n",
       "1          19.1              8.7             409.0             184.0   \n",
       "2          18.6             10.2             392.0             173.0   \n",
       "3          18.1              9.0             385.0             173.0   \n",
       "4          18.1              9.4             391.0             185.0   \n",
       "\n",
       "   boys_enrolments  indigenous_enrolments  lote  \n",
       "0            225.0                    1.0   NaN  \n",
       "1            225.0                    2.0   3.0  \n",
       "2            219.0                    2.0   4.0  \n",
       "3            212.0                    0.0   2.0  \n",
       "4            206.0                    1.0   5.0  "
      ]
     },
     "execution_count": 6,
     "metadata": {},
     "output_type": "execute_result"
    }
   ],
   "source": [
    "xl = pd.read_pickle(load_dir + \"school_profiles_2008_2017_df.pickle\")\n",
    "xl.head()"
   ]
  },
  {
   "cell_type": "code",
   "execution_count": 4,
   "metadata": {},
   "outputs": [
    {
     "name": "stdout",
     "output_type": "stream",
     "text": [
      "<class 'pandas.core.frame.DataFrame'>\n",
      "RangeIndex: 93080 entries, 0 to 93079\n",
      "Data columns (total 4 columns):\n",
      "Calendar Year      93080 non-null int64\n",
      "ACARA School ID    93080 non-null int64\n",
      "School Type        93080 non-null object\n",
      "State              93080 non-null object\n",
      "dtypes: int64(2), object(2)\n",
      "memory usage: 2.8+ MB\n"
     ]
    }
   ],
   "source": [
    "xl.info()"
   ]
  },
  {
   "cell_type": "markdown",
   "metadata": {},
   "source": [
    "# MySchool website, Sherwood State School"
   ]
  },
  {
   "cell_type": "code",
   "execution_count": 5,
   "metadata": {},
   "outputs": [
    {
     "data": {
      "text/plain": [
       "'\\r\\n<!doctype html>\\r\\n<html class=\"no-js\" lang=\"en-AU\">\\r\\n<head>\\r\\n    <meta charset=\"utf-8\">\\r\\n    <meta http-equiv=\"x-ua-compatible\" content=\"ie=edge\">\\r\\n    <title>Similar schools | My School</title>\\r\\n    <meta name=\"description\" content=\"\">\\r\\n    <meta name=\"viewport\" content=\"width=device-width, initial-scale=1, user-scalable=no\">\\r\\n    <link rel=\"icon\" href=\"/favicon.ico\" type=\"image/x-icon\">\\r\\n    <link rel=\"apple-touch-icon\" href=\"apple-touch-icon.png\">\\r\\n    <!-- Styles -->\\r\\n    <link rel=\"stylesh'"
      ]
     },
     "execution_count": 5,
     "metadata": {},
     "output_type": "execute_result"
    }
   ],
   "source": [
    "url = \"https://www.myschool.edu.au/school/46461/naplan/similar/2017\"\n",
    "\n",
    "# Packages the request, send the request and catch the response: r\n",
    "r = requests.get(url)\n",
    "\n",
    "# Extract the response: text\n",
    "text = r.text\n",
    "\n",
    "# Print the html\n",
    "text[:500]"
   ]
  },
  {
   "cell_type": "code",
   "execution_count": 6,
   "metadata": {},
   "outputs": [],
   "source": [
    "# using BeautifulSoup, turn html into cleaner text\n",
    "soup = BeautifulSoup(text, \"lxml\")\n"
   ]
  },
  {
   "cell_type": "code",
   "execution_count": 7,
   "metadata": {},
   "outputs": [
    {
     "name": "stdout",
     "output_type": "stream",
     "text": [
      "<!DOCTYPE html>\n",
      "<html class=\"no-js\" lang=\"en-AU\">\n",
      " <head>\n",
      "  <meta charset=\"utf-8\"/>\n",
      "  <meta content=\"ie=edge\" http-equiv=\"x-ua-compatible\"/>\n",
      "  <title>\n",
      "   Similar schools | My School\n",
      "  </title>\n",
      "  <meta content=\"\" name=\"description\"/>\n",
      "  <meta content=\"width=device-width, initial-scale=1, user-scalable=no\" name=\"viewport\"/>\n",
      "  <link href=\"/favicon.ico\" rel=\"icon\" type=\"image/x-icon\"/>\n",
      "  <link href=\"apple-touch-icon.png\" rel=\"apple-touch-icon\"/>\n",
      "  <!-- Styles -->\n",
      "  <link href=\"https://cdnjs.cloudflar\n"
     ]
    }
   ],
   "source": [
    "print(soup.prettify()[:500])"
   ]
  },
  {
   "cell_type": "code",
   "execution_count": 8,
   "metadata": {},
   "outputs": [],
   "source": [
    "# Find all 'script' tags (which define scripts): scripts\n",
    "scripts = soup.find_all('script')\n",
    "\n",
    "# Print the school data <script> to the shell\n",
    "#print(scripts[6])\n",
    "\n",
    "# Save the school data <script> to a text file\n"
   ]
  },
  {
   "cell_type": "code",
   "execution_count": 9,
   "metadata": {},
   "outputs": [],
   "source": [
    "# adding data for POST to retrieve different SchoolYearId, DomainId and ViewModeId\n",
    "payload = {\"SchoolYearId\" : \"5\", \"DomainId\" : \"1\", \"ViewModeId\" : \"0\"}\n",
    "\n",
    "# retrieving the above from the same page as r\n",
    "r510 = requests.post(url, data = payload)\n",
    "\n",
    "# Extract the response: text\n",
    "text510 = r510.text\n",
    "\n",
    "# using BeautifulSoup, turn html into cleaner text\n",
    "soup510 = BeautifulSoup(text510, \"lxml\")"
   ]
  },
  {
   "cell_type": "code",
   "execution_count": 10,
   "metadata": {},
   "outputs": [],
   "source": [
    "# Find all 'script' tags (which define scripts): scripts\n",
    "scripts510 = soup510.find_all('script')\n",
    "\n",
    "# Print the head of scipts to the shell\n",
    "#print(scripts510)"
   ]
  },
  {
   "cell_type": "code",
   "execution_count": 11,
   "metadata": {},
   "outputs": [
    {
     "data": {
      "text/plain": [
       "bs4.element.Tag"
      ]
     },
     "execution_count": 11,
     "metadata": {},
     "output_type": "execute_result"
    }
   ],
   "source": [
    "type(scripts[6])"
   ]
  },
  {
   "cell_type": "code",
   "execution_count": 23,
   "metadata": {},
   "outputs": [
    {
     "data": {
      "text/plain": [
       "bs4.element.NavigableString"
      ]
     },
     "execution_count": 23,
     "metadata": {},
     "output_type": "execute_result"
    }
   ],
   "source": [
    "type(scripts[6].contents[0].string)"
   ]
  },
  {
   "cell_type": "code",
   "execution_count": 27,
   "metadata": {},
   "outputs": [
    {
     "data": {
      "text/plain": [
       "'if (document.addEventListener) {document.addEventL'"
      ]
     },
     "execution_count": 27,
     "metadata": {},
     "output_type": "execute_result"
    }
   ],
   "source": [
    "# This gives a string which is writable to file\n",
    "scripts[6].string[:50]"
   ]
  },
  {
   "cell_type": "code",
   "execution_count": 26,
   "metadata": {},
   "outputs": [],
   "source": [
    "# Writing to files\n",
    "f = open(\"sherwood310.txt\", mode = \"w\", encoding = \"utf-8\")\n",
    "f.write(scripts[6].string)\n",
    "f.close()\n",
    "\n",
    "f = open(\"sherwood510.txt\", mode = \"w\", encoding = \"utf-8\")\n",
    "f.write(scripts510[6].string)\n",
    "f.close()"
   ]
  },
  {
   "cell_type": "code",
   "execution_count": 16,
   "metadata": {},
   "outputs": [
    {
     "data": {
      "text/plain": [
       "{'type': 'text/javascript'}"
      ]
     },
     "execution_count": 16,
     "metadata": {},
     "output_type": "execute_result"
    }
   ],
   "source": [
    "scripts[6].attrs"
   ]
  },
  {
   "cell_type": "code",
   "execution_count": 29,
   "metadata": {},
   "outputs": [
    {
     "data": {
      "text/plain": [
       "bs4.element.NavigableString"
      ]
     },
     "execution_count": 29,
     "metadata": {},
     "output_type": "execute_result"
    }
   ],
   "source": [
    "s310 = scripts[6].string\n",
    "type(s310)"
   ]
  },
  {
   "cell_type": "code",
   "execution_count": 30,
   "metadata": {},
   "outputs": [],
   "source": [
    "s310slash =  re.sub(r'\\\\', '', s310)\n",
    "s310colq = re.sub(r':\"', ':', s310slash)\n",
    "s310qcomma = re.sub(r'\",', ',', s310colq)"
   ]
  },
  {
   "cell_type": "code",
   "execution_count": 33,
   "metadata": {},
   "outputs": [
    {
     "data": {
      "text/plain": [
       "'if (document.addEventListener) {document.addEventListener(\"DOMContentLoaded, function() {createChartnaplanSimilarSchoolsBubble();});} else if (document.attachEvent) {document.attachEvent(\"onreadystatechange, function(){if (document.readyState === \"complete\"){document.detachEvent(\"onreadystatechange, arguments.callee);createChartnaplanSimilarSchoolsBubble();}});}function createChartnaplanSimilarSchoolsBubble() {var ChartOptions = {\"credits\":{\"enabled\":false},\"exporting\":{\"enabled\":false},\"xAxis\":[{\"endOnTick\":true,\"min\":440,\"tickInterval\":5,\"max\":540,\"tickLength\":0,\"title\":{\"text\":Average achievement score,\"offset\":50},\"labels\":{\"step\":2}}],\"chart\":{\"height\":408,\"style\":{\"min-width\":390px\"},\"renderTo\":naplanSimilarSchoolsBubble\"},\"yAxis\":[{\"tickInterval\":1,\"min\":0,\"labels\":{\"enabled\":false},\"max\":12,\"title\":{\"text\":Number of schools\"},\"lineWidth\":1}],\"tooltip\":{\"style\":{\"padding\":0,\"pointerEvents\":auto\"},\"hideDelay\":1000,\"formatter\":tooltipbuilder,\"useHTML\":true},\"title\":{\"text\":\"},\"ser'"
      ]
     },
     "execution_count": 33,
     "metadata": {},
     "output_type": "execute_result"
    }
   ],
   "source": [
    "s310qcomma[:1000]"
   ]
  },
  {
   "cell_type": "code",
   "execution_count": 35,
   "metadata": {},
   "outputs": [
    {
     "data": {
      "text/plain": [
       "'[{\"x\":450,\"description\":{\"schoolId\":49793,\"mean\":449,\"lowerMargin\":431,\"upperMargin\":467,\"schoolName\":Concordia College\"},\"marker\":{\"symbol\":url(/Content/images/naplan/graphs/bubble-4.png)\"},\"y\":0.5},{\"x\":450,\"description\":{\"schoolId\":45869,\"mean\":451,\"lowerMargin\":433,\"upperMargin\":469,\"schoolName\":St Bedeu0027s School\"},\"marker\":{\"symbol\":url(/Content/images/naplan/graphs/bubble-4.png)\"},\"y\":1.5},{\"x\":455,\"description\":{\"schoolId\":41234,\"mean\":454,\"lowerMargin\":441,\"upperMargin\":467,\"schoolNam'"
      ]
     },
     "execution_count": 35,
     "metadata": {},
     "output_type": "execute_result"
    }
   ],
   "source": [
    "s310up2data = re.sub(r'.*?data\":', '', s310qcomma)\n",
    "s310up2data[:500]"
   ]
  },
  {
   "cell_type": "code",
   "execution_count": 74,
   "metadata": {},
   "outputs": [
    {
     "name": "stdout",
     "output_type": "stream",
     "text": [
      "00,\"upperMargin\":551,\"schoolName\":Toowong State School\"},\"marker\":{\"symbol\":url(/Content/images/naplan/graphs/bubble-1.png)\"},\"y\":1.5},{\"x\":530,\"description\":{\"schoolId\":44855,\"mean\":528,\"lowerMargin\":512,\"upperMargin\":545,\"schoolName\":Beverley Hills Primary School\"},\"marker\":{\"symbol\":url(/Content/images/naplan/graphs/bubble-1.png)\"},\"y\":0.5}]}],\"plotOptions\":{\"series\":{\"states\":{\"hover\":{\"enabled\":false}},\"marker\":{\"radius\":0}}}};new Highcharts.chart(\"naplanSimilarSchoolsBubble,ChartOptions);}\n"
     ]
    },
    {
     "data": {
      "text/plain": [
       "'hool\"},\"marker\":{\"symbol\":url(/Content/images/naplan/graphs/bubble-1.png)\"},\"y\":0.5},{\"x\":525,\"description\":{\"schoolId\":46402,\"mean\":525,\"lowerMargin\":500,\"upperMargin\":551,\"schoolName\":Toowong State School\"},\"marker\":{\"symbol\":url(/Content/images/naplan/graphs/bubble-1.png)\"},\"y\":1.5},{\"x\":530,\"description\":{\"schoolId\":44855,\"mean\":528,\"lowerMargin\":512,\"upperMargin\":545,\"schoolName\":Beverley Hills Primary School\"},\"marker\":{\"symbol\":url(/Content/images/naplan/graphs/bubble-1.png)\"},\"y\":0.5}]}]'"
      ]
     },
     "execution_count": 74,
     "metadata": {},
     "output_type": "execute_result"
    }
   ],
   "source": [
    "s310apostro = re.sub(',\"plotOptions(.*)', '', s310up2data)\n",
    "s310datalist = re.sub(\"u0027\", \"'\", s310apostro)\n",
    "print(s310up2data[-500:])\n",
    "s310datalist[-500:]"
   ]
  },
  {
   "cell_type": "code",
   "execution_count": null,
   "metadata": {},
   "outputs": [],
   "source": [
    "f = open('s310datalist.txt', mode = 'w', encoding = 'utf-8')\n",
    "f.write(s310datalist)"
   ]
  },
  {
   "cell_type": "code",
   "execution_count": 79,
   "metadata": {},
   "outputs": [],
   "source": [
    "grade = 3\n",
    "domain = 1\n",
    "view = 0\n",
    "\n",
    "year = 2017"
   ]
  },
  {
   "cell_type": "code",
   "execution_count": 80,
   "metadata": {},
   "outputs": [
    {
     "data": {
      "text/html": [
       "<div>\n",
       "<style scoped>\n",
       "    .dataframe tbody tr th:only-of-type {\n",
       "        vertical-align: middle;\n",
       "    }\n",
       "\n",
       "    .dataframe tbody tr th {\n",
       "        vertical-align: top;\n",
       "    }\n",
       "\n",
       "    .dataframe thead th {\n",
       "        text-align: right;\n",
       "    }\n",
       "</style>\n",
       "<table border=\"1\" class=\"dataframe\">\n",
       "  <thead>\n",
       "    <tr style=\"text-align: right;\">\n",
       "      <th></th>\n",
       "      <th>schoolId</th>\n",
       "      <th>grade</th>\n",
       "      <th>year</th>\n",
       "      <th>mean</th>\n",
       "      <th>lower</th>\n",
       "      <th>upper</th>\n",
       "    </tr>\n",
       "  </thead>\n",
       "  <tbody>\n",
       "    <tr>\n",
       "      <th>0</th>\n",
       "      <td>49793</td>\n",
       "      <td>3</td>\n",
       "      <td>2017</td>\n",
       "      <td>449</td>\n",
       "      <td>431</td>\n",
       "      <td>467</td>\n",
       "    </tr>\n",
       "    <tr>\n",
       "      <th>1</th>\n",
       "      <td>45869</td>\n",
       "      <td>3</td>\n",
       "      <td>2017</td>\n",
       "      <td>451</td>\n",
       "      <td>433</td>\n",
       "      <td>469</td>\n",
       "    </tr>\n",
       "    <tr>\n",
       "      <th>2</th>\n",
       "      <td>41234</td>\n",
       "      <td>3</td>\n",
       "      <td>2017</td>\n",
       "      <td>454</td>\n",
       "      <td>441</td>\n",
       "      <td>467</td>\n",
       "    </tr>\n",
       "    <tr>\n",
       "      <th>3</th>\n",
       "      <td>47690</td>\n",
       "      <td>3</td>\n",
       "      <td>2017</td>\n",
       "      <td>454</td>\n",
       "      <td>439</td>\n",
       "      <td>470</td>\n",
       "    </tr>\n",
       "    <tr>\n",
       "      <th>4</th>\n",
       "      <td>46463</td>\n",
       "      <td>3</td>\n",
       "      <td>2017</td>\n",
       "      <td>456</td>\n",
       "      <td>434</td>\n",
       "      <td>477</td>\n",
       "    </tr>\n",
       "  </tbody>\n",
       "</table>\n",
       "</div>"
      ],
      "text/plain": [
       "  schoolId  grade  year mean lower upper\n",
       "0    49793      3  2017  449   431   467\n",
       "1    45869      3  2017  451   433   469\n",
       "2    41234      3  2017  454   441   467\n",
       "3    47690      3  2017  454   439   470\n",
       "4    46463      3  2017  456   434   477"
      ]
     },
     "execution_count": 80,
     "metadata": {},
     "output_type": "execute_result"
    }
   ],
   "source": [
    "schoolIdList = re.findall('schoolId\":(\\d\\d\\d\\d\\d)', s310datalist)\n",
    "meanList = re.findall('mean\":(\\d\\d\\d)', s310datalist)\n",
    "lowerList = re.findall('lowerMargin\":(\\d\\d\\d)', s310datalist)\n",
    "upperList = re.findall('upperMargin\":(\\d\\d\\d)', s310datalist)\n",
    "\n",
    "sherwood_310_df = pd.DataFrame({'schoolId' : schoolIdList, 'grade' : grade, \n",
    "                                'year' : year, 'mean' : meanList, 'lower' : lowerList,\n",
    "                               'upper' : upperList})\n",
    "\n",
    "sherwood_310_df.head()"
   ]
  },
  {
   "cell_type": "code",
   "execution_count": null,
   "metadata": {},
   "outputs": [],
   "source": [
    "sherwood_310_df.to_csv('sherwood_310_df.csv')"
   ]
  },
  {
   "cell_type": "markdown",
   "metadata": {},
   "source": [
    "# Generic school, from the all school IDs list"
   ]
  },
  {
   "cell_type": "code",
   "execution_count": 81,
   "metadata": {},
   "outputs": [],
   "source": [
    "# adding data for POST to retrieve similar school list (ViewModeId = 1)\n",
    "payload = {\"SchoolYearId\" : \"5\", \"DomainId\" : \"1\", \"ViewModeId\" : \"1\"}\n",
    "\n",
    "# retrieving the above from the same page as r\n",
    "r511 = requests.post(url, data = payload)\n",
    "\n",
    "# Extract the response: text\n",
    "text511 = r511.text\n",
    "\n",
    "# using BeautifulSoup, turn html into cleaner text\n",
    "soup511 = BeautifulSoup(text510, \"lxml\")"
   ]
  },
  {
   "cell_type": "code",
   "execution_count": 84,
   "metadata": {},
   "outputs": [],
   "source": [
    "f = open('soup511_pretty.html', mode = 'w', encoding = 'utf-8')\n",
    "f.write(soup511.prettify())\n",
    "f.close()"
   ]
  },
  {
   "cell_type": "code",
   "execution_count": 103,
   "metadata": {},
   "outputs": [],
   "source": [
    "scripts511 = soup511.find_all('script')\n",
    "s311schoolList = scripts511[6].string"
   ]
  },
  {
   "cell_type": "code",
   "execution_count": 113,
   "metadata": {},
   "outputs": [
    {
     "data": {
      "text/plain": [
       "'\\\\\"schoolName\\\\\":\\\\\"Leichhardt Public School\\\\\"}\",\"marker\":{\"symbol\":\"url(/Content/images/naplan/graphs/bubble-2.png)\"},\"y\":0.5},{\"x\":595,\"description\":\"{\\\\\"schoolId\\\\\":50402,\\\\\"mean\\\\\":593,\\\\\"lowerMargin\\\\\":574,\\\\\"upperMargin\\\\\":612,\\\\\"schoolName\\\\\":\\\\\"Geelong Grammar School\\\\\"}\",\"marker\":{\"symbol\":\"url(/Content/images/naplan/graphs/bubble-2.png)\"},\"y\":0.5}]}],\"plotOptions\":{\"series\":{\"states\":{\"hover\":{\"enabled\":false}},\"marker\":{\"radius\":0}}}};new Highcharts.chart(\"naplanSimilarSchoolsBubble\",ChartOptions);}'"
      ]
     },
     "execution_count": 113,
     "metadata": {},
     "output_type": "execute_result"
    }
   ],
   "source": [
    "scripts511[6].string[-500:]"
   ]
  },
  {
   "cell_type": "code",
   "execution_count": 117,
   "metadata": {},
   "outputs": [],
   "source": [
    "simimlar_schools_2017 = re.findall(r'schoolId\\\\\":(\\d\\d\\d\\d\\d)', scripts511[6].string)\n",
    "#simimlar_schools_2017"
   ]
  },
  {
   "cell_type": "markdown",
   "metadata": {},
   "source": [
    "## School profiles 2008 - 2017"
   ]
  },
  {
   "cell_type": "code",
   "execution_count": 50,
   "metadata": {},
   "outputs": [
    {
     "name": "stdout",
     "output_type": "stream",
     "text": [
      "Calendar Year                                int64\n",
      "ACARA School ID                              int64\n",
      "AGE ID                                     float64\n",
      "School Name                                 object\n",
      "Suburb                                      object\n",
      "State                                       object\n",
      "Postcode                                     int64\n",
      "School Sector                               object\n",
      "School Type                                 object\n",
      "Campus Type                                 object\n",
      "Rolled Reporting Description                object\n",
      "School URL                                  object\n",
      "Year Range                                  object\n",
      "Geolocation                                 object\n",
      "ICSEA                                      float64\n",
      "Bottom SEA Quarter                         float64\n",
      "Lower Middle SEA Quarter                   float64\n",
      "Upper Middle SEA Quarter                   float64\n",
      "Top SEA Quarter                            float64\n",
      "Teaching Staff                             float64\n",
      "Full Time Equivalent Teaching Staff        float64\n",
      "Non-Teaching Staff                         float64\n",
      "Full Time Equivalent Non-Teaching Staff    float64\n",
      "Total Enrolments                           float64\n",
      "Girls Enrolments                           float64\n",
      "Boys Enrolments                            float64\n",
      "Full Time Equivalent Enrolments            float64\n",
      "Indigenous Enrolments                      float64\n",
      "Language Background Other Than English     float64\n",
      "dtype: object\n"
     ]
    },
    {
     "data": {
      "text/html": [
       "<div>\n",
       "<style scoped>\n",
       "    .dataframe tbody tr th:only-of-type {\n",
       "        vertical-align: middle;\n",
       "    }\n",
       "\n",
       "    .dataframe tbody tr th {\n",
       "        vertical-align: top;\n",
       "    }\n",
       "\n",
       "    .dataframe thead th {\n",
       "        text-align: right;\n",
       "    }\n",
       "</style>\n",
       "<table border=\"1\" class=\"dataframe\">\n",
       "  <thead>\n",
       "    <tr style=\"text-align: right;\">\n",
       "      <th></th>\n",
       "      <th>Calendar Year</th>\n",
       "      <th>ACARA School ID</th>\n",
       "      <th>AGE ID</th>\n",
       "      <th>School Name</th>\n",
       "      <th>Suburb</th>\n",
       "      <th>State</th>\n",
       "      <th>Postcode</th>\n",
       "      <th>School Sector</th>\n",
       "      <th>School Type</th>\n",
       "      <th>Campus Type</th>\n",
       "      <th>...</th>\n",
       "      <th>Teaching Staff</th>\n",
       "      <th>Full Time Equivalent Teaching Staff</th>\n",
       "      <th>Non-Teaching Staff</th>\n",
       "      <th>Full Time Equivalent Non-Teaching Staff</th>\n",
       "      <th>Total Enrolments</th>\n",
       "      <th>Girls Enrolments</th>\n",
       "      <th>Boys Enrolments</th>\n",
       "      <th>Full Time Equivalent Enrolments</th>\n",
       "      <th>Indigenous Enrolments</th>\n",
       "      <th>Language Background Other Than English</th>\n",
       "    </tr>\n",
       "  </thead>\n",
       "  <tbody>\n",
       "    <tr>\n",
       "      <th>0</th>\n",
       "      <td>2008</td>\n",
       "      <td>40000</td>\n",
       "      <td>3.0</td>\n",
       "      <td>Corpus Christi Catholic School</td>\n",
       "      <td>BELLERIVE</td>\n",
       "      <td>TAS</td>\n",
       "      <td>7018</td>\n",
       "      <td>Catholic</td>\n",
       "      <td>Primary</td>\n",
       "      <td>School Single Entity</td>\n",
       "      <td>...</td>\n",
       "      <td>29.0</td>\n",
       "      <td>19.0</td>\n",
       "      <td>12.0</td>\n",
       "      <td>6.9</td>\n",
       "      <td>410.0</td>\n",
       "      <td>185.0</td>\n",
       "      <td>225.0</td>\n",
       "      <td>410.0</td>\n",
       "      <td>1.0</td>\n",
       "      <td>NaN</td>\n",
       "    </tr>\n",
       "    <tr>\n",
       "      <th>1</th>\n",
       "      <td>2009</td>\n",
       "      <td>40000</td>\n",
       "      <td>3.0</td>\n",
       "      <td>Corpus Christi Catholic School</td>\n",
       "      <td>BELLERIVE</td>\n",
       "      <td>TAS</td>\n",
       "      <td>7018</td>\n",
       "      <td>Catholic</td>\n",
       "      <td>Primary</td>\n",
       "      <td>School Single Entity</td>\n",
       "      <td>...</td>\n",
       "      <td>27.0</td>\n",
       "      <td>19.1</td>\n",
       "      <td>15.0</td>\n",
       "      <td>8.7</td>\n",
       "      <td>409.0</td>\n",
       "      <td>184.0</td>\n",
       "      <td>225.0</td>\n",
       "      <td>409.0</td>\n",
       "      <td>2.0</td>\n",
       "      <td>3.0</td>\n",
       "    </tr>\n",
       "    <tr>\n",
       "      <th>2</th>\n",
       "      <td>2010</td>\n",
       "      <td>40000</td>\n",
       "      <td>3.0</td>\n",
       "      <td>Corpus Christi Catholic School</td>\n",
       "      <td>BELLERIVE</td>\n",
       "      <td>TAS</td>\n",
       "      <td>7018</td>\n",
       "      <td>Catholic</td>\n",
       "      <td>Primary</td>\n",
       "      <td>School Single Entity</td>\n",
       "      <td>...</td>\n",
       "      <td>26.0</td>\n",
       "      <td>18.6</td>\n",
       "      <td>18.0</td>\n",
       "      <td>10.2</td>\n",
       "      <td>392.0</td>\n",
       "      <td>173.0</td>\n",
       "      <td>219.0</td>\n",
       "      <td>392.0</td>\n",
       "      <td>2.0</td>\n",
       "      <td>4.0</td>\n",
       "    </tr>\n",
       "    <tr>\n",
       "      <th>3</th>\n",
       "      <td>2011</td>\n",
       "      <td>40000</td>\n",
       "      <td>3.0</td>\n",
       "      <td>Corpus Christi Catholic School</td>\n",
       "      <td>BELLERIVE</td>\n",
       "      <td>TAS</td>\n",
       "      <td>7018</td>\n",
       "      <td>Catholic</td>\n",
       "      <td>Primary</td>\n",
       "      <td>School Single Entity</td>\n",
       "      <td>...</td>\n",
       "      <td>25.0</td>\n",
       "      <td>18.1</td>\n",
       "      <td>16.0</td>\n",
       "      <td>9.0</td>\n",
       "      <td>385.0</td>\n",
       "      <td>173.0</td>\n",
       "      <td>212.0</td>\n",
       "      <td>385.0</td>\n",
       "      <td>0.0</td>\n",
       "      <td>2.0</td>\n",
       "    </tr>\n",
       "    <tr>\n",
       "      <th>4</th>\n",
       "      <td>2012</td>\n",
       "      <td>40000</td>\n",
       "      <td>3.0</td>\n",
       "      <td>Corpus Christi Catholic School</td>\n",
       "      <td>BELLERIVE</td>\n",
       "      <td>TAS</td>\n",
       "      <td>7018</td>\n",
       "      <td>Catholic</td>\n",
       "      <td>Primary</td>\n",
       "      <td>School Single Entity</td>\n",
       "      <td>...</td>\n",
       "      <td>24.0</td>\n",
       "      <td>18.1</td>\n",
       "      <td>16.0</td>\n",
       "      <td>9.4</td>\n",
       "      <td>391.0</td>\n",
       "      <td>185.0</td>\n",
       "      <td>206.0</td>\n",
       "      <td>391.0</td>\n",
       "      <td>1.0</td>\n",
       "      <td>5.0</td>\n",
       "    </tr>\n",
       "  </tbody>\n",
       "</table>\n",
       "<p>5 rows × 29 columns</p>\n",
       "</div>"
      ],
      "text/plain": [
       "   Calendar Year  ACARA School ID  AGE ID                     School Name  \\\n",
       "0           2008            40000     3.0  Corpus Christi Catholic School   \n",
       "1           2009            40000     3.0  Corpus Christi Catholic School   \n",
       "2           2010            40000     3.0  Corpus Christi Catholic School   \n",
       "3           2011            40000     3.0  Corpus Christi Catholic School   \n",
       "4           2012            40000     3.0  Corpus Christi Catholic School   \n",
       "\n",
       "      Suburb State  Postcode School Sector School Type           Campus Type  \\\n",
       "0  BELLERIVE   TAS      7018      Catholic     Primary  School Single Entity   \n",
       "1  BELLERIVE   TAS      7018      Catholic     Primary  School Single Entity   \n",
       "2  BELLERIVE   TAS      7018      Catholic     Primary  School Single Entity   \n",
       "3  BELLERIVE   TAS      7018      Catholic     Primary  School Single Entity   \n",
       "4  BELLERIVE   TAS      7018      Catholic     Primary  School Single Entity   \n",
       "\n",
       "                    ...                   Teaching Staff  \\\n",
       "0                   ...                             29.0   \n",
       "1                   ...                             27.0   \n",
       "2                   ...                             26.0   \n",
       "3                   ...                             25.0   \n",
       "4                   ...                             24.0   \n",
       "\n",
       "  Full Time Equivalent Teaching Staff Non-Teaching Staff  \\\n",
       "0                                19.0               12.0   \n",
       "1                                19.1               15.0   \n",
       "2                                18.6               18.0   \n",
       "3                                18.1               16.0   \n",
       "4                                18.1               16.0   \n",
       "\n",
       "  Full Time Equivalent Non-Teaching Staff  Total Enrolments  Girls Enrolments  \\\n",
       "0                                     6.9             410.0             185.0   \n",
       "1                                     8.7             409.0             184.0   \n",
       "2                                    10.2             392.0             173.0   \n",
       "3                                     9.0             385.0             173.0   \n",
       "4                                     9.4             391.0             185.0   \n",
       "\n",
       "   Boys Enrolments  Full Time Equivalent Enrolments  Indigenous Enrolments  \\\n",
       "0            225.0                            410.0                    1.0   \n",
       "1            225.0                            409.0                    2.0   \n",
       "2            219.0                            392.0                    2.0   \n",
       "3            212.0                            385.0                    0.0   \n",
       "4            206.0                            391.0                    1.0   \n",
       "\n",
       "   Language Background Other Than English  \n",
       "0                                     NaN  \n",
       "1                                     3.0  \n",
       "2                                     4.0  \n",
       "3                                     2.0  \n",
       "4                                     5.0  \n",
       "\n",
       "[5 rows x 29 columns]"
      ]
     },
     "execution_count": 50,
     "metadata": {},
     "output_type": "execute_result"
    }
   ],
   "source": [
    "file = load_dir + \"school-profile-2008-2017.xlsx\"\n",
    "xl = pd.read_excel(file, sheet_name=\"School Profile\")\n",
    "print(xl.dtypes)\n",
    "xl.head()\n"
   ]
  },
  {
   "cell_type": "code",
   "execution_count": null,
   "metadata": {},
   "outputs": [],
   "source": []
  },
  {
   "cell_type": "code",
   "execution_count": 11,
   "metadata": {},
   "outputs": [],
   "source": [
    "allSchoolIdsList = xl['ACARA School ID'].unique().tolist();"
   ]
  },
  {
   "cell_type": "code",
   "execution_count": null,
   "metadata": {},
   "outputs": [],
   "source": [
    "pickle_on = open(\"allSchoolIdsList.pickle\", \"wb\")\n",
    "pickle.dump(allSchoolIdsList, pickle_on)\n",
    "pickle_on.close()"
   ]
  },
  {
   "cell_type": "code",
   "execution_count": 14,
   "metadata": {},
   "outputs": [],
   "source": [
    "xl.to_pickle(\"allSchoolProfiles_df.pickle\")"
   ]
  },
  {
   "cell_type": "code",
   "execution_count": 16,
   "metadata": {},
   "outputs": [],
   "source": [
    "years = ['2008', '2009', '2010', '2011', '2012', '2013', '2014', '2015', '2016', '2017']"
   ]
  },
  {
   "cell_type": "code",
   "execution_count": null,
   "metadata": {},
   "outputs": [],
   "source": [
    "years_int = [int(y) for y in years]"
   ]
  },
  {
   "cell_type": "code",
   "execution_count": 51,
   "metadata": {},
   "outputs": [],
   "source": [
    "#xl_dtypes_dict = xl.dtypes.to_dict()\n",
    "#xl_dtypes_dict"
   ]
  },
  {
   "cell_type": "code",
   "execution_count": null,
   "metadata": {},
   "outputs": [],
   "source": []
  },
  {
   "cell_type": "code",
   "execution_count": null,
   "metadata": {},
   "outputs": [],
   "source": []
  },
  {
   "cell_type": "code",
   "execution_count": null,
   "metadata": {},
   "outputs": [],
   "source": []
  },
  {
   "cell_type": "code",
   "execution_count": 9,
   "metadata": {},
   "outputs": [
    {
     "data": {
      "text/html": [
       "<div>\n",
       "<style scoped>\n",
       "    .dataframe tbody tr th:only-of-type {\n",
       "        vertical-align: middle;\n",
       "    }\n",
       "\n",
       "    .dataframe tbody tr th {\n",
       "        vertical-align: top;\n",
       "    }\n",
       "\n",
       "    .dataframe thead th {\n",
       "        text-align: right;\n",
       "    }\n",
       "</style>\n",
       "<table border=\"1\" class=\"dataframe\">\n",
       "  <thead>\n",
       "    <tr style=\"text-align: right;\">\n",
       "      <th></th>\n",
       "      <th>ACARA School ID</th>\n",
       "      <th>School Type</th>\n",
       "      <th>State</th>\n",
       "    </tr>\n",
       "    <tr>\n",
       "      <th>Calendar Year</th>\n",
       "      <th></th>\n",
       "      <th></th>\n",
       "      <th></th>\n",
       "    </tr>\n",
       "  </thead>\n",
       "  <tbody>\n",
       "    <tr>\n",
       "      <th>2008</th>\n",
       "      <td>40001</td>\n",
       "      <td>Combined</td>\n",
       "      <td>TAS</td>\n",
       "    </tr>\n",
       "    <tr>\n",
       "      <th>2008</th>\n",
       "      <td>40002</td>\n",
       "      <td>Combined</td>\n",
       "      <td>TAS</td>\n",
       "    </tr>\n",
       "    <tr>\n",
       "      <th>2008</th>\n",
       "      <td>40005</td>\n",
       "      <td>Combined</td>\n",
       "      <td>TAS</td>\n",
       "    </tr>\n",
       "    <tr>\n",
       "      <th>2008</th>\n",
       "      <td>40007</td>\n",
       "      <td>Combined</td>\n",
       "      <td>TAS</td>\n",
       "    </tr>\n",
       "    <tr>\n",
       "      <th>2008</th>\n",
       "      <td>40008</td>\n",
       "      <td>Combined</td>\n",
       "      <td>TAS</td>\n",
       "    </tr>\n",
       "  </tbody>\n",
       "</table>\n",
       "</div>"
      ],
      "text/plain": [
       "               ACARA School ID School Type State\n",
       "Calendar Year                                   \n",
       "2008                     40001    Combined   TAS\n",
       "2008                     40002    Combined   TAS\n",
       "2008                     40005    Combined   TAS\n",
       "2008                     40007    Combined   TAS\n",
       "2008                     40008    Combined   TAS"
      ]
     },
     "execution_count": 9,
     "metadata": {},
     "output_type": "execute_result"
    }
   ],
   "source": [
    "all_schools_sort_list = ['Calendar Year', 'School Type', 'ACARA School ID']\n",
    "all_school_years_df = xl.iloc[:, [0,1,8,5]].sort_values(all_schools_sort_list\n",
    "                                                ).set_index('Calendar Year')\n",
    "\n",
    "all_school_years_df.head()"
   ]
  },
  {
   "cell_type": "code",
   "execution_count": 12,
   "metadata": {},
   "outputs": [],
   "source": [
    "all_school_years_df.to_pickle(load_dir + \"all_school_years_df.pickle\")"
   ]
  },
  {
   "cell_type": "code",
   "execution_count": 53,
   "metadata": {},
   "outputs": [
    {
     "data": {
      "text/plain": [
       "[40001, 40002, 40005, 40007, 40008]"
      ]
     },
     "execution_count": 53,
     "metadata": {},
     "output_type": "execute_result"
    }
   ],
   "source": [
    "year_df = all_school_years_df.loc[years_int[0]]\n",
    "one_yr_list = year_df['ACARA School ID'].values.tolist()\n",
    "one_yr_list[:5]"
   ]
  },
  {
   "cell_type": "code",
   "execution_count": 59,
   "metadata": {},
   "outputs": [
    {
     "data": {
      "text/plain": [
       "[40000, 40003, 40004, 40006, 40009]"
      ]
     },
     "execution_count": 59,
     "metadata": {},
     "output_type": "execute_result"
    }
   ],
   "source": [
    "year_df = all_school_years_df.loc[(years_int[-1]) & (\n",
    "    all_school_years_df['School Type'] == 'Primary')]\n",
    "primary_2017_schoolID_list = year_df['ACARA School ID'].values.tolist()\n",
    "primary_2017_schoolID_list[:5]"
   ]
  },
  {
   "cell_type": "code",
   "execution_count": null,
   "metadata": {},
   "outputs": [],
   "source": []
  },
  {
   "cell_type": "code",
   "execution_count": null,
   "metadata": {},
   "outputs": [],
   "source": []
  },
  {
   "cell_type": "code",
   "execution_count": 77,
   "metadata": {},
   "outputs": [
    {
     "data": {
      "text/plain": [
       "Index(['Calendar Year', 'ACARA School ID', 'AGE ID', 'School Name', 'Suburb',\n",
       "       'State', 'Postcode', 'School Sector', 'School Type', 'Campus Type',\n",
       "       'Rolled Reporting Description', 'School URL', 'Year Range',\n",
       "       'Geolocation', 'ICSEA', 'Bottom SEA Quarter',\n",
       "       'Lower Middle SEA Quarter', 'Upper Middle SEA Quarter',\n",
       "       'Top SEA Quarter', 'Teaching Staff',\n",
       "       'Full Time Equivalent Teaching Staff', 'Non-Teaching Staff',\n",
       "       'Full Time Equivalent Non-Teaching Staff', 'Total Enrolments',\n",
       "       'Girls Enrolments', 'Boys Enrolments',\n",
       "       'Full Time Equivalent Enrolments', 'Indigenous Enrolments',\n",
       "       'Language Background Other Than English'],\n",
       "      dtype='object')"
      ]
     },
     "execution_count": 77,
     "metadata": {},
     "output_type": "execute_result"
    }
   ],
   "source": [
    "xl.columns"
   ]
  },
  {
   "cell_type": "code",
   "execution_count": null,
   "metadata": {},
   "outputs": [],
   "source": []
  },
  {
   "cell_type": "code",
   "execution_count": null,
   "metadata": {},
   "outputs": [],
   "source": []
  }
 ],
 "metadata": {
  "kernelspec": {
   "display_name": "Python (Courses)",
   "language": "python",
   "name": "courses"
  },
  "language_info": {
   "codemirror_mode": {
    "name": "ipython",
    "version": 3
   },
   "file_extension": ".py",
   "mimetype": "text/x-python",
   "name": "python",
   "nbconvert_exporter": "python",
   "pygments_lexer": "ipython3",
   "version": "3.6.6"
  }
 },
 "nbformat": 4,
 "nbformat_minor": 2
}
