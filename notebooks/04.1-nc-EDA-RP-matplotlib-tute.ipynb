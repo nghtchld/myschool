{
 "cells": [
  {
   "cell_type": "markdown",
   "metadata": {},
   "source": [
    "# https://realpython.com/python-matplotlib-guide/"
   ]
  },
  {
   "cell_type": "code",
   "execution_count": 2,
   "metadata": {},
   "outputs": [],
   "source": [
    "import os\n",
    "\n",
    "import numpy as np\n",
    "np.random.seed(444)\n",
    "import pandas as pd\n",
    "from scipy import stats\n",
    "\n",
    "import seaborn as sns\n",
    "%matplotlib inline\n",
    "import matplotlib.pyplot as plt\n",
    "plt.style.use('ggplot')\n",
    "sns.set(style='ticks', context='talk')\n",
    "\n",
    "import requests"
   ]
  },
  {
   "cell_type": "code",
   "execution_count": 81,
   "metadata": {},
   "outputs": [],
   "source": [
    "from sklearn.linear_model import LinearRegression\n",
    "from sklearn.metrics import mean_squared_error, r2_score, explained_variance_score"
   ]
  },
  {
   "cell_type": "code",
   "execution_count": 3,
   "metadata": {},
   "outputs": [],
   "source": [
    "# setting directories for file loads and saves\n",
    "raw_dir = \"../data/raw/\"\n",
    "load_dir = save_dir = \"../data/interim/\"\n",
    "final_dir = \"../data/processed/\"\n",
    "\n",
    "logs_dir = \"../data/logs/\""
   ]
  },
  {
   "cell_type": "code",
   "execution_count": null,
   "metadata": {},
   "outputs": [],
   "source": []
  },
  {
   "cell_type": "code",
   "execution_count": 4,
   "metadata": {},
   "outputs": [
    {
     "data": {
      "text/html": [
       "<div>\n",
       "<style scoped>\n",
       "    .dataframe tbody tr th:only-of-type {\n",
       "        vertical-align: middle;\n",
       "    }\n",
       "\n",
       "    .dataframe tbody tr th {\n",
       "        vertical-align: top;\n",
       "    }\n",
       "\n",
       "    .dataframe thead th {\n",
       "        text-align: right;\n",
       "    }\n",
       "</style>\n",
       "<table border=\"1\" class=\"dataframe\">\n",
       "  <thead>\n",
       "    <tr style=\"text-align: right;\">\n",
       "      <th></th>\n",
       "      <th>school_id</th>\n",
       "      <th>grade</th>\n",
       "      <th>year</th>\n",
       "      <th>domain</th>\n",
       "      <th>mean</th>\n",
       "      <th>lower</th>\n",
       "      <th>upper</th>\n",
       "      <th>calendar_year</th>\n",
       "      <th>school_name</th>\n",
       "      <th>state</th>\n",
       "      <th>...</th>\n",
       "      <th>icsea</th>\n",
       "      <th>bottom_sea_quarter</th>\n",
       "      <th>lower_middle_sea_quarter</th>\n",
       "      <th>upper_middle_sea_quarter</th>\n",
       "      <th>top_sea_quarter</th>\n",
       "      <th>fte_teachers</th>\n",
       "      <th>fte_other_staff</th>\n",
       "      <th>total_enrolments</th>\n",
       "      <th>indigenous_enrolments</th>\n",
       "      <th>lote</th>\n",
       "    </tr>\n",
       "  </thead>\n",
       "  <tbody>\n",
       "    <tr>\n",
       "      <th>0</th>\n",
       "      <td>40001</td>\n",
       "      <td>7</td>\n",
       "      <td>2017</td>\n",
       "      <td>Reading</td>\n",
       "      <td>589</td>\n",
       "      <td>572</td>\n",
       "      <td>606</td>\n",
       "      <td>2017</td>\n",
       "      <td>Fahan School</td>\n",
       "      <td>TAS</td>\n",
       "      <td>...</td>\n",
       "      <td>1130.0</td>\n",
       "      <td>4.0</td>\n",
       "      <td>11.0</td>\n",
       "      <td>26.0</td>\n",
       "      <td>59.0</td>\n",
       "      <td>33.3</td>\n",
       "      <td>21.7</td>\n",
       "      <td>372.0</td>\n",
       "      <td>1.0</td>\n",
       "      <td>7.0</td>\n",
       "    </tr>\n",
       "    <tr>\n",
       "      <th>1</th>\n",
       "      <td>40001</td>\n",
       "      <td>7</td>\n",
       "      <td>2017</td>\n",
       "      <td>Writing</td>\n",
       "      <td>564</td>\n",
       "      <td>544</td>\n",
       "      <td>585</td>\n",
       "      <td>2017</td>\n",
       "      <td>Fahan School</td>\n",
       "      <td>TAS</td>\n",
       "      <td>...</td>\n",
       "      <td>1130.0</td>\n",
       "      <td>4.0</td>\n",
       "      <td>11.0</td>\n",
       "      <td>26.0</td>\n",
       "      <td>59.0</td>\n",
       "      <td>33.3</td>\n",
       "      <td>21.7</td>\n",
       "      <td>372.0</td>\n",
       "      <td>1.0</td>\n",
       "      <td>7.0</td>\n",
       "    </tr>\n",
       "    <tr>\n",
       "      <th>2</th>\n",
       "      <td>40001</td>\n",
       "      <td>7</td>\n",
       "      <td>2017</td>\n",
       "      <td>Spelling</td>\n",
       "      <td>569</td>\n",
       "      <td>550</td>\n",
       "      <td>587</td>\n",
       "      <td>2017</td>\n",
       "      <td>Fahan School</td>\n",
       "      <td>TAS</td>\n",
       "      <td>...</td>\n",
       "      <td>1130.0</td>\n",
       "      <td>4.0</td>\n",
       "      <td>11.0</td>\n",
       "      <td>26.0</td>\n",
       "      <td>59.0</td>\n",
       "      <td>33.3</td>\n",
       "      <td>21.7</td>\n",
       "      <td>372.0</td>\n",
       "      <td>1.0</td>\n",
       "      <td>7.0</td>\n",
       "    </tr>\n",
       "    <tr>\n",
       "      <th>3</th>\n",
       "      <td>40001</td>\n",
       "      <td>7</td>\n",
       "      <td>2017</td>\n",
       "      <td>Grammar and Punctuation</td>\n",
       "      <td>593</td>\n",
       "      <td>572</td>\n",
       "      <td>613</td>\n",
       "      <td>2017</td>\n",
       "      <td>Fahan School</td>\n",
       "      <td>TAS</td>\n",
       "      <td>...</td>\n",
       "      <td>1130.0</td>\n",
       "      <td>4.0</td>\n",
       "      <td>11.0</td>\n",
       "      <td>26.0</td>\n",
       "      <td>59.0</td>\n",
       "      <td>33.3</td>\n",
       "      <td>21.7</td>\n",
       "      <td>372.0</td>\n",
       "      <td>1.0</td>\n",
       "      <td>7.0</td>\n",
       "    </tr>\n",
       "    <tr>\n",
       "      <th>4</th>\n",
       "      <td>40001</td>\n",
       "      <td>7</td>\n",
       "      <td>2017</td>\n",
       "      <td>Numeracy</td>\n",
       "      <td>581</td>\n",
       "      <td>564</td>\n",
       "      <td>599</td>\n",
       "      <td>2017</td>\n",
       "      <td>Fahan School</td>\n",
       "      <td>TAS</td>\n",
       "      <td>...</td>\n",
       "      <td>1130.0</td>\n",
       "      <td>4.0</td>\n",
       "      <td>11.0</td>\n",
       "      <td>26.0</td>\n",
       "      <td>59.0</td>\n",
       "      <td>33.3</td>\n",
       "      <td>21.7</td>\n",
       "      <td>372.0</td>\n",
       "      <td>1.0</td>\n",
       "      <td>7.0</td>\n",
       "    </tr>\n",
       "  </tbody>\n",
       "</table>\n",
       "<p>5 rows × 22 columns</p>\n",
       "</div>"
      ],
      "text/plain": [
       "   school_id  grade  year                   domain  mean  lower  upper  \\\n",
       "0      40001      7  2017                  Reading   589    572    606   \n",
       "1      40001      7  2017                  Writing   564    544    585   \n",
       "2      40001      7  2017                 Spelling   569    550    587   \n",
       "3      40001      7  2017  Grammar and Punctuation   593    572    613   \n",
       "4      40001      7  2017                 Numeracy   581    564    599   \n",
       "\n",
       "   calendar_year   school_name state  ...    icsea bottom_sea_quarter  \\\n",
       "0           2017  Fahan School   TAS  ...   1130.0                4.0   \n",
       "1           2017  Fahan School   TAS  ...   1130.0                4.0   \n",
       "2           2017  Fahan School   TAS  ...   1130.0                4.0   \n",
       "3           2017  Fahan School   TAS  ...   1130.0                4.0   \n",
       "4           2017  Fahan School   TAS  ...   1130.0                4.0   \n",
       "\n",
       "   lower_middle_sea_quarter  upper_middle_sea_quarter  top_sea_quarter  \\\n",
       "0                      11.0                      26.0             59.0   \n",
       "1                      11.0                      26.0             59.0   \n",
       "2                      11.0                      26.0             59.0   \n",
       "3                      11.0                      26.0             59.0   \n",
       "4                      11.0                      26.0             59.0   \n",
       "\n",
       "   fte_teachers  fte_other_staff  total_enrolments  indigenous_enrolments  \\\n",
       "0          33.3             21.7             372.0                    1.0   \n",
       "1          33.3             21.7             372.0                    1.0   \n",
       "2          33.3             21.7             372.0                    1.0   \n",
       "3          33.3             21.7             372.0                    1.0   \n",
       "4          33.3             21.7             372.0                    1.0   \n",
       "\n",
       "   lote  \n",
       "0   7.0  \n",
       "1   7.0  \n",
       "2   7.0  \n",
       "3   7.0  \n",
       "4   7.0  \n",
       "\n",
       "[5 rows x 22 columns]"
      ]
     },
     "execution_count": 4,
     "metadata": {},
     "output_type": "execute_result"
    }
   ],
   "source": [
    "nap = pd.read_csv(save_dir + '2017_year_7_results_schools_info.csv', index_col=0)\n",
    "nap.head()"
   ]
  },
  {
   "cell_type": "code",
   "execution_count": 30,
   "metadata": {},
   "outputs": [],
   "source": [
    "nap_model = nap.dropna()"
   ]
  },
  {
   "cell_type": "code",
   "execution_count": 176,
   "metadata": {},
   "outputs": [],
   "source": [
    "x = nap_model['mean']\n",
    "y = nap_model['icsea']"
   ]
  },
  {
   "cell_type": "code",
   "execution_count": 182,
   "metadata": {},
   "outputs": [
    {
     "name": "stdout",
     "output_type": "stream",
     "text": [
      "Gradient and intercept 1.733021114113949 80.56679808832416\n",
      "R-squared 0.7319242307959912\n",
      "p-value 0.0\n"
     ]
    }
   ],
   "source": [
    "gradient,intercept,r_value,p_value,std_err = stats.linregress(x,y)\n",
    "\n",
    "print(\"Gradient and intercept\",gradient,intercept)\n",
    "print(\"R-squared\",r_value**2)\n",
    "print(\"p-value\",p_value)"
   ]
  },
  {
   "cell_type": "code",
   "execution_count": 218,
   "metadata": {},
   "outputs": [
    {
     "data": {
      "text/plain": [
       "[<matplotlib.lines.Line2D at 0x272408c7d30>]"
      ]
     },
     "execution_count": 218,
     "metadata": {},
     "output_type": "execute_result"
    },
    {
     "data": {
      "image/png": "[encoded data removed]",
      "text/plain": [
       "<Figure size 432x288 with 1 Axes>"
      ]
     },
     "metadata": {
      "needs_background": "light"
     },
     "output_type": "display_data"
    }
   ],
   "source": [
    "xstat = np.linspace(x.min(), x.max(), len(x))\n",
    "ystat = []\n",
    "for i in range(len(xstat)):\n",
    "    ystat.append(((gradient * xstat[i]) + intercept))\n",
    "plt.plot(xstat, ystat)\n"
   ]
  },
  {
   "cell_type": "code",
   "execution_count": null,
   "metadata": {},
   "outputs": [],
   "source": []
  },
  {
   "cell_type": "code",
   "execution_count": 219,
   "metadata": {},
   "outputs": [
    {
     "data": {
      "text/plain": [
       "[<matplotlib.lines.Line2D at 0x2724090a550>]"
      ]
     },
     "execution_count": 219,
     "metadata": {},
     "output_type": "execute_result"
    },
    {
     "data": {
      "image/png": "[encoded data removed]",
      "text/plain": [
       "<Figure size 720x432 with 1 Axes>"
      ]
     },
     "metadata": {
      "needs_background": "light"
     },
     "output_type": "display_data"
    }
   ],
   "source": [
    "fig, ax = plt.subplots(figsize=(10, 6))\n",
    "ax.scatter(x, y)\n",
    "ax.set_title('Mean naplan versus ICSEA, 2017, Year 7')\n",
    "ax.set_ylabel('ICSEA')\n",
    "ax.set_xlabel('Naplan (mean)')\n",
    "plt.plot(xstat, ystat, \n",
    "         color = 'red')\n",
    "#fig.tight_layout()"
   ]
  },
  {
   "cell_type": "code",
   "execution_count": null,
   "metadata": {},
   "outputs": [],
   "source": []
  },
  {
   "cell_type": "code",
   "execution_count": 178,
   "metadata": {},
   "outputs": [
    {
     "name": "stdout",
     "output_type": "stream",
     "text": [
      "Gradient and intercept 1.733021114113949 80.56679808832416\n",
      "R-squared 0.7319242307959912\n",
      "p-value 0.0\n"
     ]
    }
   ],
   "source": [
    "gradient,intercept,r_value,p_value,std_err = stats.linregress(x,y)\n",
    "\n",
    "print(\"Gradient and intercept\",gradient,intercept)\n",
    "print(\"R-squared\",r_value**2)\n",
    "print(\"p-value\",p_value)"
   ]
  },
  {
   "cell_type": "code",
   "execution_count": 181,
   "metadata": {},
   "outputs": [
    {
     "data": {
      "text/plain": [
       "[<matplotlib.lines.Line2D at 0x2723e62e0b8>]"
      ]
     },
     "execution_count": 181,
     "metadata": {},
     "output_type": "execute_result"
    },
    {
     "data": {
      "image/png": "[encoded data removed]",
      "text/plain": [
       "<Figure size 432x288 with 1 Axes>"
      ]
     },
     "metadata": {
      "needs_background": "light"
     },
     "output_type": "display_data"
    }
   ],
   "source": [
    "plt.plot([((gradient * 400) + intercept), 800], [400, (800 - intercept) / gradient])"
   ]
  },
  {
   "cell_type": "code",
   "execution_count": null,
   "metadata": {},
   "outputs": [],
   "source": []
  },
  {
   "cell_type": "code",
   "execution_count": null,
   "metadata": {},
   "outputs": [],
   "source": []
  },
  {
   "cell_type": "code",
   "execution_count": 58,
   "metadata": {},
   "outputs": [
    {
     "name": "stdout",
     "output_type": "stream",
     "text": [
      "Estimated intercept coefficient: 80.56679808832371 \n",
      "Number of coefficients: 1\n"
     ]
    }
   ],
   "source": [
    "# initialise instance or LR model\n",
    "lm = LinearRegression(fit_intercept=True)\n",
    "\n",
    "# Create model\n",
    "lm.fit(x[:, np.newaxis], y)\n",
    "\n",
    "print('Estimated intercept coefficient:', lm.intercept_, '\\n'\n",
    "     'Number of coefficients:', len(lm.coef_))"
   ]
  },
  {
   "cell_type": "code",
   "execution_count": null,
   "metadata": {},
   "outputs": [],
   "source": []
  },
  {
   "cell_type": "code",
   "execution_count": 63,
   "metadata": {},
   "outputs": [],
   "source": [
    "# create model data over range of naplan results\n",
    "xfit = np.linspace(x.min(), x.max(), len(y))\n",
    "yfit = lm.predict(xfit[:, np.newaxis])"
   ]
  },
  {
   "cell_type": "code",
   "execution_count": 64,
   "metadata": {},
   "outputs": [
    {
     "data": {
      "text/plain": [
       "Text(0.5,0,'Naplan (mean)')"
      ]
     },
     "execution_count": 64,
     "metadata": {},
     "output_type": "execute_result"
    },
    {
     "data": {
      "image/png": "[encoded data removed]",
      "text/plain": [
       "<Figure size 720x432 with 1 Axes>"
      ]
     },
     "metadata": {
      "needs_background": "light"
     },
     "output_type": "display_data"
    }
   ],
   "source": [
    "fig, ax = plt.subplots(figsize=(10, 6))\n",
    "ax.scatter(x, y)\n",
    "ax.plot(xfit, yfit)\n",
    "ax.set_title('Mean naplan versus ICSEA, 2017, Year 7')\n",
    "ax.set_ylabel('ICSEA')\n",
    "ax.set_xlabel('Naplan (mean)')\n",
    "\n",
    "#fig.tight_layout()\n"
   ]
  },
  {
   "cell_type": "code",
   "execution_count": 82,
   "metadata": {},
   "outputs": [
    {
     "name": "stdout",
     "output_type": "stream",
     "text": [
      "Mean squared error: 74493.36\n",
      "Variance score: -5.15\n",
      "Variance score: -3.89\n"
     ]
    }
   ],
   "source": [
    "# The mean squared error\n",
    "print(\"Mean squared error: %.2f\"\n",
    "      % mean_squared_error(y.sort_values(), yfit))\n",
    "# r2_score: 1 is perfect prediction\n",
    "print('Variance score: %.2f' % r2_score(y.sort_values(), yfit))\n",
    "\n",
    "# Explained variance score: 1 is perfect prediction\n",
    "print('Variance score: %.2f' % explained_variance_score(y.sort_values(), yfit))\n"
   ]
  },
  {
   "cell_type": "code",
   "execution_count": 172,
   "metadata": {},
   "outputs": [],
   "source": [
    "from scipy import stats"
   ]
  },
  {
   "cell_type": "code",
   "execution_count": null,
   "metadata": {},
   "outputs": [],
   "source": []
  },
  {
   "cell_type": "code",
   "execution_count": null,
   "metadata": {},
   "outputs": [],
   "source": []
  },
  {
   "cell_type": "code",
   "execution_count": null,
   "metadata": {},
   "outputs": [],
   "source": []
  },
  {
   "cell_type": "code",
   "execution_count": null,
   "metadata": {},
   "outputs": [],
   "source": []
  },
  {
   "cell_type": "code",
   "execution_count": null,
   "metadata": {},
   "outputs": [],
   "source": []
  },
  {
   "cell_type": "code",
   "execution_count": 85,
   "metadata": {},
   "outputs": [],
   "source": [
    "from sklearn.model_selection import train_test_split"
   ]
  },
  {
   "cell_type": "code",
   "execution_count": 147,
   "metadata": {},
   "outputs": [],
   "source": [
    "x = nap_model['mean'].values.reshape(-1, 1)\n",
    "y = nap_model['icsea'].values"
   ]
  },
  {
   "cell_type": "code",
   "execution_count": 159,
   "metadata": {},
   "outputs": [],
   "source": [
    "X_train, X_test, Y_train, Y_test = train_test_split(x, y, test_size = 0.5, random_state = 5)"
   ]
  },
  {
   "cell_type": "code",
   "execution_count": 160,
   "metadata": {},
   "outputs": [
    {
     "name": "stdout",
     "output_type": "stream",
     "text": [
      "(12064, 1) (12064, 1) (12064,) (12064,)\n"
     ]
    }
   ],
   "source": [
    "print(X_train.shape, X_test.shape, Y_train.shape, Y_test.shape)"
   ]
  },
  {
   "cell_type": "code",
   "execution_count": 161,
   "metadata": {},
   "outputs": [],
   "source": [
    "lm2 = LinearRegression(fit_intercept=True)"
   ]
  },
  {
   "cell_type": "code",
   "execution_count": 162,
   "metadata": {},
   "outputs": [
    {
     "name": "stdout",
     "output_type": "stream",
     "text": [
      "<class 'numpy.ndarray'> (12064, 1)\n"
     ]
    }
   ],
   "source": [
    "print(type(X_test), X_test.shape)"
   ]
  },
  {
   "cell_type": "code",
   "execution_count": 163,
   "metadata": {},
   "outputs": [
    {
     "data": {
      "text/plain": [
       "LinearRegression(copy_X=True, fit_intercept=True, n_jobs=1, normalize=False)"
      ]
     },
     "execution_count": 163,
     "metadata": {},
     "output_type": "execute_result"
    }
   ],
   "source": [
    "lm2.fit(X_train, Y_train)\n"
   ]
  },
  {
   "cell_type": "code",
   "execution_count": 164,
   "metadata": {},
   "outputs": [],
   "source": [
    "pred_train = lm2.predict(X_train)\n",
    "pred_test = lm2.predict(X_test)"
   ]
  },
  {
   "cell_type": "code",
   "execution_count": 165,
   "metadata": {},
   "outputs": [
    {
     "name": "stdout",
     "output_type": "stream",
     "text": [
      "Fit a model X_train, and calculate MSE with Y_train: 3329.2533962814186\n",
      "Fit a model X_train, and calculate MSE with X_test, Y_test: 3169.8539917737367\n"
     ]
    }
   ],
   "source": [
    "print('Fit a model X_train, and calculate MSE with Y_train:', \n",
    "      np.mean((Y_train - lm.predict(X_train)) ** 2)\n",
    "     )\n",
    "\n",
    "print('Fit a model X_train, and calculate MSE with X_test, Y_test:', \n",
    "      np.mean((Y_test - lm.predict(X_test)) ** 2))"
   ]
  },
  {
   "cell_type": "code",
   "execution_count": 170,
   "metadata": {},
   "outputs": [
    {
     "data": {
      "text/plain": [
       "<matplotlib.collections.PathCollection at 0x2723e80d1d0>"
      ]
     },
     "execution_count": 170,
     "metadata": {},
     "output_type": "execute_result"
    },
    {
     "data": {
      "image/png": "[encoded data removed]",
      "text/plain": [
       "<Figure size 432x288 with 1 Axes>"
      ]
     },
     "metadata": {
      "needs_background": "light"
     },
     "output_type": "display_data"
    }
   ],
   "source": [
    "plt.scatter(X_train, pred_train)\n",
    "plt.scatter(X_test, pred_test)"
   ]
  },
  {
   "cell_type": "code",
   "execution_count": null,
   "metadata": {},
   "outputs": [],
   "source": []
  },
  {
   "cell_type": "code",
   "execution_count": 93,
   "metadata": {},
   "outputs": [
    {
     "data": {
      "text/plain": [
       "requests.models.Response"
      ]
     },
     "execution_count": 93,
     "metadata": {},
     "output_type": "execute_result"
    }
   ],
   "source": [
    "url = (\"http://www.dcc.fc.up.pt/~ltorgo/Regression/cal_housing.tgz\")\n",
    "\n",
    "# Packages the request, send the request and catch the response: r\n",
    "r = requests.get(url)\n",
    "\n",
    "# type the response\n",
    "type(r)"
   ]
  },
  {
   "cell_type": "code",
   "execution_count": null,
   "metadata": {},
   "outputs": [],
   "source": []
  }
 ],
 "metadata": {
  "kernelspec": {
   "display_name": "Python (Courses)",
   "language": "python",
   "name": "courses"
  },
  "language_info": {
   "codemirror_mode": {
    "name": "ipython",
    "version": 3
   },
   "file_extension": ".py",
   "mimetype": "text/x-python",
   "name": "python",
   "nbconvert_exporter": "python",
   "pygments_lexer": "ipython3",
   "version": "3.6.6"
  }
 },
 "nbformat": 4,
 "nbformat_minor": 2
}
