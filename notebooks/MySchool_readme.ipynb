{
 "cells": [
  {
   "cell_type": "markdown",
   "metadata": {},
   "source": [
    "# MySchool data scraping project"
   ]
  },
  {
   "cell_type": "markdown",
   "metadata": {},
   "source": [
    "## Done\n",
    "* Done the basic data scraping from a base school starting page.\n",
    "* Done the basic POST Request to get other grade, domain and viewMode from base page\n",
    "* Done write dictionaries for year, grade, domain and viewMode\n",
    "* Done worked out how to change year of data, adding year to end of URL\n",
    "* DONE dl schools list file and import lists / df of name and Id\n",
    "* NOT NEEDED instead generate schoolsId list from first results page (was * RE pattern needed to scrape school group list from that view)\n",
    "* Mostly DONE loop using the Loop Structure plan below for cycling through the school groups\n",
    "* Basic Version DONE loop for removing the collected schoolIds / rows from the total list / df\n",
    "\n",
    "## BIG TODO\n",
    "* write better school ID list generator for primary, high and special school data separation\n",
    "* reset CWD to P:etc and update file lists between H:etc and P:etc\n",
    "* set up proper directory structure in folder for project\n",
    "* git this project\n",
    "* write function defs for cleaning etc\n",
    "* write classes for the functions\n",
    "* do EDA and subsequent Analysis and Visualisations\n",
    "\n",
    "## Biggest TODO\n",
    "* github and docker and setup project\n",
    "* turn all data into various df, DB, linked table objects\n",
    "* make visualisations interactive / animated\n",
    "* make visualisations website\n",
    "* write unit-tests, exception catching, error raising etc\n"
   ]
  },
  {
   "cell_type": "markdown",
   "metadata": {},
   "source": [
    "# Loop structure"
   ]
  },
  {
   "cell_type": "markdown",
   "metadata": {},
   "source": [
    "* set up vars, lists, dicts for generating Requests \n",
    "\n",
    "* check there are remaining schools\n",
    "* starting with the first schools ID on the all schools  list / df \n",
    "* Request the school list View for the group of similar schools\n",
    "* initiate storage lists and DF using schools list group data\n",
    "* Request the base data page View (Year 3, Reading, 2017)\n",
    "* Request data, clean and extract, listify, make temp df and Append final DF\n",
    "* loop data requests through:\n",
    "    * domains, then years, then Year 5 domains, then years\n",
    "    * reuse storage lists and temp df, Append final DF\n",
    "* remove the schools in this group from the all schools list / df\n",
    "* restart the loop with the next schoolId, if any remaining"
   ]
  },
  {
   "cell_type": "markdown",
   "metadata": {},
   "source": [
    "## Global Vars, Dictionaries and Lists of POST data"
   ]
  },
  {
   "cell_type": "code",
   "execution_count": 2,
   "metadata": {},
   "outputs": [],
   "source": [
    "# Global variables here\n",
    "# DF of ALL schools EACH year\n",
    "all_school_years_df = pd.read_pickle(\"all_school_years_df.pickle\")\n",
    "\n",
    "# params for Request and vars for loops\n",
    "SchoolYearId = \"5\"\n",
    "DomainId = [\"1\", \"2\", \"4\", \"5\", \"6\"]\n",
    "ViewModeId = \"0\"\n",
    "years_str = ['2008', '2009', '2010', '2011', '2012', '2013', '2014', '2015', '2016', '2017']\n",
    "years_int =  [int(y) for y in years_str]\n",
    "\n",
    "# DomainId dict \n",
    "dict_DomainId = {\n",
    "    '1' : 'Reading',\n",
    "    '2' : 'Writing',\n",
    "    '4' : 'Spelling',\n",
    "    '5' : 'Grammar and Punctuation',\n",
    "    '6' : 'Numeracy'\n",
    "    }\n",
    "\n",
    "# initialise remaining schools IDs list\n",
    "one_year_all_schools_df = all_school_years_df.loc[years_int[-1]]\n",
    "one_year_all_schools_list = one_year_all_schools_df['ACARA School ID'].values.tolist()\n",
    "remaining_schools_list = one_year_all_schools_list\n",
    "\n",
    "# initialise DF\n",
    "df_columns = ['schoolId', 'grade', 'year', 'domain', 'mean', 'lower', 'upper']\n",
    "results_df = pd.DataFrame(columns = df_columns)\n",
    "\n",
    "# initialise test vars\n",
    "last_school = 1"
   ]
  },
  {
   "cell_type": "code",
   "execution_count": null,
   "metadata": {},
   "outputs": [],
   "source": []
  },
  {
   "cell_type": "code",
   "execution_count": null,
   "metadata": {},
   "outputs": [],
   "source": []
  }
 ],
 "metadata": {
  "kernelspec": {
   "display_name": "Python (Courses)",
   "language": "python",
   "name": "courses"
  },
  "language_info": {
   "codemirror_mode": {
    "name": "ipython",
    "version": 3
   },
   "file_extension": ".py",
   "mimetype": "text/x-python",
   "name": "python",
   "nbconvert_exporter": "python",
   "pygments_lexer": "ipython3",
   "version": "3.6.6"
  }
 },
 "nbformat": 4,
 "nbformat_minor": 2
}
