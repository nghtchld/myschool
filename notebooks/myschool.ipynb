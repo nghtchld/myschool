{
 "cells": [
  {
   "cell_type": "code",
   "execution_count": 1,
   "metadata": {},
   "outputs": [],
   "source": [
    "import pandas as pd\n",
    "import numpy as np\n"
   ]
  },
  {
   "cell_type": "code",
   "execution_count": 2,
   "metadata": {},
   "outputs": [],
   "source": [
    "import requests\n",
    "from bs4 import BeautifulSoup\n",
    "# or import bs4 as bs"
   ]
  },
  {
   "cell_type": "code",
   "execution_count": 3,
   "metadata": {},
   "outputs": [],
   "source": [
    "import re"
   ]
  },
  {
   "cell_type": "code",
   "execution_count": 4,
   "metadata": {},
   "outputs": [],
   "source": [
    "import json"
   ]
  },
  {
   "cell_type": "code",
   "execution_count": 5,
   "metadata": {},
   "outputs": [],
   "source": [
    "import xlrd"
   ]
  },
  {
   "cell_type": "code",
   "execution_count": 16,
   "metadata": {},
   "outputs": [],
   "source": [
    "import pickle"
   ]
  },
  {
   "cell_type": "markdown",
   "metadata": {},
   "source": [
    "# MySchool website, Sherwood State School"
   ]
  },
  {
   "cell_type": "code",
   "execution_count": 5,
   "metadata": {},
   "outputs": [
    {
     "data": {
      "text/plain": [
       "'\\r\\n<!doctype html>\\r\\n<html class=\"no-js\" lang=\"en-AU\">\\r\\n<head>\\r\\n    <meta charset=\"utf-8\">\\r\\n    <meta http-equiv=\"x-ua-compatible\" content=\"ie=edge\">\\r\\n    <title>Similar schools | My School</title>\\r\\n    <meta name=\"description\" content=\"\">\\r\\n    <meta name=\"viewport\" content=\"width=device-width, initial-scale=1, user-scalable=no\">\\r\\n    <link rel=\"icon\" href=\"/favicon.ico\" type=\"image/x-icon\">\\r\\n    <link rel=\"apple-touch-icon\" href=\"apple-touch-icon.png\">\\r\\n    <!-- Styles -->\\r\\n    <link rel=\"stylesh'"
      ]
     },
     "execution_count": 5,
     "metadata": {},
     "output_type": "execute_result"
    }
   ],
   "source": [
    "url = \"https://www.myschool.edu.au/school/46461/naplan/similar/2017\"\n",
    "\n",
    "# Packages the request, send the request and catch the response: r\n",
    "r = requests.get(url)\n",
    "\n",
    "# Extract the response: text\n",
    "text = r.text\n",
    "\n",
    "# Print the html\n",
    "text[:500]"
   ]
  },
  {
   "cell_type": "code",
   "execution_count": 6,
   "metadata": {},
   "outputs": [],
   "source": [
    "# using BeautifulSoup, turn html into cleaner text\n",
    "soup = BeautifulSoup(text, \"lxml\")\n"
   ]
  },
  {
   "cell_type": "code",
   "execution_count": 7,
   "metadata": {},
   "outputs": [
    {
     "name": "stdout",
     "output_type": "stream",
     "text": [
      "<!DOCTYPE html>\n",
      "<html class=\"no-js\" lang=\"en-AU\">\n",
      " <head>\n",
      "  <meta charset=\"utf-8\"/>\n",
      "  <meta content=\"ie=edge\" http-equiv=\"x-ua-compatible\"/>\n",
      "  <title>\n",
      "   Similar schools | My School\n",
      "  </title>\n",
      "  <meta content=\"\" name=\"description\"/>\n",
      "  <meta content=\"width=device-width, initial-scale=1, user-scalable=no\" name=\"viewport\"/>\n",
      "  <link href=\"/favicon.ico\" rel=\"icon\" type=\"image/x-icon\"/>\n",
      "  <link href=\"apple-touch-icon.png\" rel=\"apple-touch-icon\"/>\n",
      "  <!-- Styles -->\n",
      "  <link href=\"https://cdnjs.cloudflar\n"
     ]
    }
   ],
   "source": [
    "print(soup.prettify()[:500])"
   ]
  },
  {
   "cell_type": "code",
   "execution_count": 8,
   "metadata": {},
   "outputs": [],
   "source": [
    "# Find all 'script' tags (which define scripts): scripts\n",
    "scripts = soup.find_all('script')\n",
    "\n",
    "# Print the school data <script> to the shell\n",
    "#print(scripts[6])\n",
    "\n",
    "# Save the school data <script> to a text file\n"
   ]
  },
  {
   "cell_type": "code",
   "execution_count": 9,
   "metadata": {},
   "outputs": [],
   "source": [
    "# adding data for POST to retrieve different SchoolYearId, DomainId and ViewModeId\n",
    "payload = {\"SchoolYearId\" : \"5\", \"DomainId\" : \"1\", \"ViewModeId\" : \"0\"}\n",
    "\n",
    "# retrieving the above from the same page as r\n",
    "r510 = requests.post(url, data = payload)\n",
    "\n",
    "# Extract the response: text\n",
    "text510 = r510.text\n",
    "\n",
    "# using BeautifulSoup, turn html into cleaner text\n",
    "soup510 = BeautifulSoup(text510, \"lxml\")"
   ]
  },
  {
   "cell_type": "code",
   "execution_count": 10,
   "metadata": {},
   "outputs": [],
   "source": [
    "# Find all 'script' tags (which define scripts): scripts\n",
    "scripts510 = soup510.find_all('script')\n",
    "\n",
    "# Print the head of scipts to the shell\n",
    "#print(scripts510)"
   ]
  },
  {
   "cell_type": "code",
   "execution_count": 11,
   "metadata": {},
   "outputs": [
    {
     "data": {
      "text/plain": [
       "bs4.element.Tag"
      ]
     },
     "execution_count": 11,
     "metadata": {},
     "output_type": "execute_result"
    }
   ],
   "source": [
    "type(scripts[6])"
   ]
  },
  {
   "cell_type": "code",
   "execution_count": 23,
   "metadata": {},
   "outputs": [
    {
     "data": {
      "text/plain": [
       "bs4.element.NavigableString"
      ]
     },
     "execution_count": 23,
     "metadata": {},
     "output_type": "execute_result"
    }
   ],
   "source": [
    "type(scripts[6].contents[0].string)"
   ]
  },
  {
   "cell_type": "code",
   "execution_count": 27,
   "metadata": {},
   "outputs": [
    {
     "data": {
      "text/plain": [
       "'if (document.addEventListener) {document.addEventL'"
      ]
     },
     "execution_count": 27,
     "metadata": {},
     "output_type": "execute_result"
    }
   ],
   "source": [
    "# This gives a string which is writable to file\n",
    "scripts[6].string[:50]"
   ]
  },
  {
   "cell_type": "code",
   "execution_count": 26,
   "metadata": {},
   "outputs": [],
   "source": [
    "# Writing to files\n",
    "f = open(\"sherwood310.txt\", mode = \"w\", encoding = \"utf-8\")\n",
    "f.write(scripts[6].string)\n",
    "f.close()\n",
    "\n",
    "f = open(\"sherwood510.txt\", mode = \"w\", encoding = \"utf-8\")\n",
    "f.write(scripts510[6].string)\n",
    "f.close()"
   ]
  },
  {
   "cell_type": "code",
   "execution_count": 16,
   "metadata": {},
   "outputs": [
    {
     "data": {
      "text/plain": [
       "{'type': 'text/javascript'}"
      ]
     },
     "execution_count": 16,
     "metadata": {},
     "output_type": "execute_result"
    }
   ],
   "source": [
    "scripts[6].attrs"
   ]
  },
  {
   "cell_type": "code",
   "execution_count": 29,
   "metadata": {},
   "outputs": [
    {
     "data": {
      "text/plain": [
       "bs4.element.NavigableString"
      ]
     },
     "execution_count": 29,
     "metadata": {},
     "output_type": "execute_result"
    }
   ],
   "source": [
    "s310 = scripts[6].string\n",
    "type(s310)"
   ]
  },
  {
   "cell_type": "code",
   "execution_count": 30,
   "metadata": {},
   "outputs": [],
   "source": [
    "s310slash =  re.sub(r'\\\\', '', s310)\n",
    "s310colq = re.sub(r':\"', ':', s310slash)\n",
    "s310qcomma = re.sub(r'\",', ',', s310colq)"
   ]
  },
  {
   "cell_type": "code",
   "execution_count": 33,
   "metadata": {},
   "outputs": [
    {
     "data": {
      "text/plain": [
       "'if (document.addEventListener) {document.addEventListener(\"DOMContentLoaded, function() {createChartnaplanSimilarSchoolsBubble();});} else if (document.attachEvent) {document.attachEvent(\"onreadystatechange, function(){if (document.readyState === \"complete\"){document.detachEvent(\"onreadystatechange, arguments.callee);createChartnaplanSimilarSchoolsBubble();}});}function createChartnaplanSimilarSchoolsBubble() {var ChartOptions = {\"credits\":{\"enabled\":false},\"exporting\":{\"enabled\":false},\"xAxis\":[{\"endOnTick\":true,\"min\":440,\"tickInterval\":5,\"max\":540,\"tickLength\":0,\"title\":{\"text\":Average achievement score,\"offset\":50},\"labels\":{\"step\":2}}],\"chart\":{\"height\":408,\"style\":{\"min-width\":390px\"},\"renderTo\":naplanSimilarSchoolsBubble\"},\"yAxis\":[{\"tickInterval\":1,\"min\":0,\"labels\":{\"enabled\":false},\"max\":12,\"title\":{\"text\":Number of schools\"},\"lineWidth\":1}],\"tooltip\":{\"style\":{\"padding\":0,\"pointerEvents\":auto\"},\"hideDelay\":1000,\"formatter\":tooltipbuilder,\"useHTML\":true},\"title\":{\"text\":\"},\"ser'"
      ]
     },
     "execution_count": 33,
     "metadata": {},
     "output_type": "execute_result"
    }
   ],
   "source": [
    "s310qcomma[:1000]"
   ]
  },
  {
   "cell_type": "code",
   "execution_count": 35,
   "metadata": {},
   "outputs": [
    {
     "data": {
      "text/plain": [
       "'[{\"x\":450,\"description\":{\"schoolId\":49793,\"mean\":449,\"lowerMargin\":431,\"upperMargin\":467,\"schoolName\":Concordia College\"},\"marker\":{\"symbol\":url(/Content/images/naplan/graphs/bubble-4.png)\"},\"y\":0.5},{\"x\":450,\"description\":{\"schoolId\":45869,\"mean\":451,\"lowerMargin\":433,\"upperMargin\":469,\"schoolName\":St Bedeu0027s School\"},\"marker\":{\"symbol\":url(/Content/images/naplan/graphs/bubble-4.png)\"},\"y\":1.5},{\"x\":455,\"description\":{\"schoolId\":41234,\"mean\":454,\"lowerMargin\":441,\"upperMargin\":467,\"schoolNam'"
      ]
     },
     "execution_count": 35,
     "metadata": {},
     "output_type": "execute_result"
    }
   ],
   "source": [
    "s310up2data = re.sub(r'.*?data\":', '', s310qcomma)\n",
    "s310up2data[:500]"
   ]
  },
  {
   "cell_type": "code",
   "execution_count": 74,
   "metadata": {},
   "outputs": [
    {
     "name": "stdout",
     "output_type": "stream",
     "text": [
      "00,\"upperMargin\":551,\"schoolName\":Toowong State School\"},\"marker\":{\"symbol\":url(/Content/images/naplan/graphs/bubble-1.png)\"},\"y\":1.5},{\"x\":530,\"description\":{\"schoolId\":44855,\"mean\":528,\"lowerMargin\":512,\"upperMargin\":545,\"schoolName\":Beverley Hills Primary School\"},\"marker\":{\"symbol\":url(/Content/images/naplan/graphs/bubble-1.png)\"},\"y\":0.5}]}],\"plotOptions\":{\"series\":{\"states\":{\"hover\":{\"enabled\":false}},\"marker\":{\"radius\":0}}}};new Highcharts.chart(\"naplanSimilarSchoolsBubble,ChartOptions);}\n"
     ]
    },
    {
     "data": {
      "text/plain": [
       "'hool\"},\"marker\":{\"symbol\":url(/Content/images/naplan/graphs/bubble-1.png)\"},\"y\":0.5},{\"x\":525,\"description\":{\"schoolId\":46402,\"mean\":525,\"lowerMargin\":500,\"upperMargin\":551,\"schoolName\":Toowong State School\"},\"marker\":{\"symbol\":url(/Content/images/naplan/graphs/bubble-1.png)\"},\"y\":1.5},{\"x\":530,\"description\":{\"schoolId\":44855,\"mean\":528,\"lowerMargin\":512,\"upperMargin\":545,\"schoolName\":Beverley Hills Primary School\"},\"marker\":{\"symbol\":url(/Content/images/naplan/graphs/bubble-1.png)\"},\"y\":0.5}]}]'"
      ]
     },
     "execution_count": 74,
     "metadata": {},
     "output_type": "execute_result"
    }
   ],
   "source": [
    "s310apostro = re.sub(',\"plotOptions(.*)', '', s310up2data)\n",
    "s310datalist = re.sub(\"u0027\", \"'\", s310apostro)\n",
    "print(s310up2data[-500:])\n",
    "s310datalist[-500:]"
   ]
  },
  {
   "cell_type": "code",
   "execution_count": null,
   "metadata": {},
   "outputs": [],
   "source": [
    "f = open('s310datalist.txt', mode = 'w', encoding = 'utf-8')\n",
    "f.write(s310datalist)"
   ]
  },
  {
   "cell_type": "code",
   "execution_count": 79,
   "metadata": {},
   "outputs": [],
   "source": [
    "grade = 3\n",
    "domain = 1\n",
    "view = 0\n",
    "\n",
    "year = 2017"
   ]
  },
  {
   "cell_type": "code",
   "execution_count": 80,
   "metadata": {},
   "outputs": [
    {
     "data": {
      "text/html": [
       "<div>\n",
       "<style scoped>\n",
       "    .dataframe tbody tr th:only-of-type {\n",
       "        vertical-align: middle;\n",
       "    }\n",
       "\n",
       "    .dataframe tbody tr th {\n",
       "        vertical-align: top;\n",
       "    }\n",
       "\n",
       "    .dataframe thead th {\n",
       "        text-align: right;\n",
       "    }\n",
       "</style>\n",
       "<table border=\"1\" class=\"dataframe\">\n",
       "  <thead>\n",
       "    <tr style=\"text-align: right;\">\n",
       "      <th></th>\n",
       "      <th>schoolId</th>\n",
       "      <th>grade</th>\n",
       "      <th>year</th>\n",
       "      <th>mean</th>\n",
       "      <th>lower</th>\n",
       "      <th>upper</th>\n",
       "    </tr>\n",
       "  </thead>\n",
       "  <tbody>\n",
       "    <tr>\n",
       "      <th>0</th>\n",
       "      <td>49793</td>\n",
       "      <td>3</td>\n",
       "      <td>2017</td>\n",
       "      <td>449</td>\n",
       "      <td>431</td>\n",
       "      <td>467</td>\n",
       "    </tr>\n",
       "    <tr>\n",
       "      <th>1</th>\n",
       "      <td>45869</td>\n",
       "      <td>3</td>\n",
       "      <td>2017</td>\n",
       "      <td>451</td>\n",
       "      <td>433</td>\n",
       "      <td>469</td>\n",
       "    </tr>\n",
       "    <tr>\n",
       "      <th>2</th>\n",
       "      <td>41234</td>\n",
       "      <td>3</td>\n",
       "      <td>2017</td>\n",
       "      <td>454</td>\n",
       "      <td>441</td>\n",
       "      <td>467</td>\n",
       "    </tr>\n",
       "    <tr>\n",
       "      <th>3</th>\n",
       "      <td>47690</td>\n",
       "      <td>3</td>\n",
       "      <td>2017</td>\n",
       "      <td>454</td>\n",
       "      <td>439</td>\n",
       "      <td>470</td>\n",
       "    </tr>\n",
       "    <tr>\n",
       "      <th>4</th>\n",
       "      <td>46463</td>\n",
       "      <td>3</td>\n",
       "      <td>2017</td>\n",
       "      <td>456</td>\n",
       "      <td>434</td>\n",
       "      <td>477</td>\n",
       "    </tr>\n",
       "  </tbody>\n",
       "</table>\n",
       "</div>"
      ],
      "text/plain": [
       "  schoolId  grade  year mean lower upper\n",
       "0    49793      3  2017  449   431   467\n",
       "1    45869      3  2017  451   433   469\n",
       "2    41234      3  2017  454   441   467\n",
       "3    47690      3  2017  454   439   470\n",
       "4    46463      3  2017  456   434   477"
      ]
     },
     "execution_count": 80,
     "metadata": {},
     "output_type": "execute_result"
    }
   ],
   "source": [
    "schoolIdList = re.findall('schoolId\":(\\d\\d\\d\\d\\d)', s310datalist)\n",
    "meanList = re.findall('mean\":(\\d\\d\\d)', s310datalist)\n",
    "lowerList = re.findall('lowerMargin\":(\\d\\d\\d)', s310datalist)\n",
    "upperList = re.findall('upperMargin\":(\\d\\d\\d)', s310datalist)\n",
    "\n",
    "sherwood_310_df = pd.DataFrame({'schoolId' : schoolIdList, 'grade' : grade, \n",
    "                                'year' : year, 'mean' : meanList, 'lower' : lowerList,\n",
    "                               'upper' : upperList})\n",
    "\n",
    "sherwood_310_df.head()"
   ]
  },
  {
   "cell_type": "code",
   "execution_count": null,
   "metadata": {},
   "outputs": [],
   "source": [
    "sherwood_310_df.to_csv('sherwood_310_df.csv')"
   ]
  },
  {
   "cell_type": "code",
   "execution_count": null,
   "metadata": {},
   "outputs": [],
   "source": []
  },
  {
   "cell_type": "code",
   "execution_count": 81,
   "metadata": {},
   "outputs": [],
   "source": [
    "# adding data for POST to retrieve similar school list (ViewModeId = 1)\n",
    "payload = {\"SchoolYearId\" : \"5\", \"DomainId\" : \"1\", \"ViewModeId\" : \"1\"}\n",
    "\n",
    "# retrieving the above from the same page as r\n",
    "r511 = requests.post(url, data = payload)\n",
    "\n",
    "# Extract the response: text\n",
    "text511 = r511.text\n",
    "\n",
    "# using BeautifulSoup, turn html into cleaner text\n",
    "soup511 = BeautifulSoup(text510, \"lxml\")"
   ]
  },
  {
   "cell_type": "code",
   "execution_count": 84,
   "metadata": {},
   "outputs": [],
   "source": [
    "f = open('soup511_pretty.html', mode = 'w', encoding = 'utf-8')\n",
    "f.write(soup511.prettify())\n",
    "f.close()"
   ]
  },
  {
   "cell_type": "code",
   "execution_count": 103,
   "metadata": {},
   "outputs": [],
   "source": [
    "scripts511 = soup511.find_all('script')\n",
    "s311schoolList = scripts511[6].string"
   ]
  },
  {
   "cell_type": "code",
   "execution_count": 113,
   "metadata": {},
   "outputs": [
    {
     "data": {
      "text/plain": [
       "'\\\\\"schoolName\\\\\":\\\\\"Leichhardt Public School\\\\\"}\",\"marker\":{\"symbol\":\"url(/Content/images/naplan/graphs/bubble-2.png)\"},\"y\":0.5},{\"x\":595,\"description\":\"{\\\\\"schoolId\\\\\":50402,\\\\\"mean\\\\\":593,\\\\\"lowerMargin\\\\\":574,\\\\\"upperMargin\\\\\":612,\\\\\"schoolName\\\\\":\\\\\"Geelong Grammar School\\\\\"}\",\"marker\":{\"symbol\":\"url(/Content/images/naplan/graphs/bubble-2.png)\"},\"y\":0.5}]}],\"plotOptions\":{\"series\":{\"states\":{\"hover\":{\"enabled\":false}},\"marker\":{\"radius\":0}}}};new Highcharts.chart(\"naplanSimilarSchoolsBubble\",ChartOptions);}'"
      ]
     },
     "execution_count": 113,
     "metadata": {},
     "output_type": "execute_result"
    }
   ],
   "source": [
    "scripts511[6].string[-500:]"
   ]
  },
  {
   "cell_type": "code",
   "execution_count": 117,
   "metadata": {},
   "outputs": [],
   "source": [
    "simimlar_schools_2017 = re.findall(r'schoolId\\\\\":(\\d\\d\\d\\d\\d)', scripts511[6].string)\n",
    "#simimlar_schools_2017"
   ]
  },
  {
   "cell_type": "markdown",
   "metadata": {},
   "source": [
    "## School profiles 2008 - 2017"
   ]
  },
  {
   "cell_type": "code",
   "execution_count": 6,
   "metadata": {},
   "outputs": [
    {
     "data": {
      "text/html": [
       "<div>\n",
       "<style scoped>\n",
       "    .dataframe tbody tr th:only-of-type {\n",
       "        vertical-align: middle;\n",
       "    }\n",
       "\n",
       "    .dataframe tbody tr th {\n",
       "        vertical-align: top;\n",
       "    }\n",
       "\n",
       "    .dataframe thead th {\n",
       "        text-align: right;\n",
       "    }\n",
       "</style>\n",
       "<table border=\"1\" class=\"dataframe\">\n",
       "  <thead>\n",
       "    <tr style=\"text-align: right;\">\n",
       "      <th></th>\n",
       "      <th>Calendar Year</th>\n",
       "      <th>ACARA School ID</th>\n",
       "      <th>AGE ID</th>\n",
       "      <th>School Name</th>\n",
       "      <th>Suburb</th>\n",
       "      <th>State</th>\n",
       "      <th>Postcode</th>\n",
       "      <th>School Sector</th>\n",
       "      <th>School Type</th>\n",
       "      <th>Campus Type</th>\n",
       "      <th>...</th>\n",
       "      <th>Teaching Staff</th>\n",
       "      <th>Full Time Equivalent Teaching Staff</th>\n",
       "      <th>Non-Teaching Staff</th>\n",
       "      <th>Full Time Equivalent Non-Teaching Staff</th>\n",
       "      <th>Total Enrolments</th>\n",
       "      <th>Girls Enrolments</th>\n",
       "      <th>Boys Enrolments</th>\n",
       "      <th>Full Time Equivalent Enrolments</th>\n",
       "      <th>Indigenous Enrolments</th>\n",
       "      <th>Language Background Other Than English</th>\n",
       "    </tr>\n",
       "  </thead>\n",
       "  <tbody>\n",
       "    <tr>\n",
       "      <th>0</th>\n",
       "      <td>2008</td>\n",
       "      <td>40000</td>\n",
       "      <td>3.0</td>\n",
       "      <td>Corpus Christi Catholic School</td>\n",
       "      <td>BELLERIVE</td>\n",
       "      <td>TAS</td>\n",
       "      <td>7018</td>\n",
       "      <td>Catholic</td>\n",
       "      <td>Primary</td>\n",
       "      <td>School Single Entity</td>\n",
       "      <td>...</td>\n",
       "      <td>29.0</td>\n",
       "      <td>19.0</td>\n",
       "      <td>12.0</td>\n",
       "      <td>6.9</td>\n",
       "      <td>410.0</td>\n",
       "      <td>185.0</td>\n",
       "      <td>225.0</td>\n",
       "      <td>410.0</td>\n",
       "      <td>1.0</td>\n",
       "      <td>NaN</td>\n",
       "    </tr>\n",
       "    <tr>\n",
       "      <th>1</th>\n",
       "      <td>2009</td>\n",
       "      <td>40000</td>\n",
       "      <td>3.0</td>\n",
       "      <td>Corpus Christi Catholic School</td>\n",
       "      <td>BELLERIVE</td>\n",
       "      <td>TAS</td>\n",
       "      <td>7018</td>\n",
       "      <td>Catholic</td>\n",
       "      <td>Primary</td>\n",
       "      <td>School Single Entity</td>\n",
       "      <td>...</td>\n",
       "      <td>27.0</td>\n",
       "      <td>19.1</td>\n",
       "      <td>15.0</td>\n",
       "      <td>8.7</td>\n",
       "      <td>409.0</td>\n",
       "      <td>184.0</td>\n",
       "      <td>225.0</td>\n",
       "      <td>409.0</td>\n",
       "      <td>2.0</td>\n",
       "      <td>3.0</td>\n",
       "    </tr>\n",
       "    <tr>\n",
       "      <th>2</th>\n",
       "      <td>2010</td>\n",
       "      <td>40000</td>\n",
       "      <td>3.0</td>\n",
       "      <td>Corpus Christi Catholic School</td>\n",
       "      <td>BELLERIVE</td>\n",
       "      <td>TAS</td>\n",
       "      <td>7018</td>\n",
       "      <td>Catholic</td>\n",
       "      <td>Primary</td>\n",
       "      <td>School Single Entity</td>\n",
       "      <td>...</td>\n",
       "      <td>26.0</td>\n",
       "      <td>18.6</td>\n",
       "      <td>18.0</td>\n",
       "      <td>10.2</td>\n",
       "      <td>392.0</td>\n",
       "      <td>173.0</td>\n",
       "      <td>219.0</td>\n",
       "      <td>392.0</td>\n",
       "      <td>2.0</td>\n",
       "      <td>4.0</td>\n",
       "    </tr>\n",
       "    <tr>\n",
       "      <th>3</th>\n",
       "      <td>2011</td>\n",
       "      <td>40000</td>\n",
       "      <td>3.0</td>\n",
       "      <td>Corpus Christi Catholic School</td>\n",
       "      <td>BELLERIVE</td>\n",
       "      <td>TAS</td>\n",
       "      <td>7018</td>\n",
       "      <td>Catholic</td>\n",
       "      <td>Primary</td>\n",
       "      <td>School Single Entity</td>\n",
       "      <td>...</td>\n",
       "      <td>25.0</td>\n",
       "      <td>18.1</td>\n",
       "      <td>16.0</td>\n",
       "      <td>9.0</td>\n",
       "      <td>385.0</td>\n",
       "      <td>173.0</td>\n",
       "      <td>212.0</td>\n",
       "      <td>385.0</td>\n",
       "      <td>0.0</td>\n",
       "      <td>2.0</td>\n",
       "    </tr>\n",
       "    <tr>\n",
       "      <th>4</th>\n",
       "      <td>2012</td>\n",
       "      <td>40000</td>\n",
       "      <td>3.0</td>\n",
       "      <td>Corpus Christi Catholic School</td>\n",
       "      <td>BELLERIVE</td>\n",
       "      <td>TAS</td>\n",
       "      <td>7018</td>\n",
       "      <td>Catholic</td>\n",
       "      <td>Primary</td>\n",
       "      <td>School Single Entity</td>\n",
       "      <td>...</td>\n",
       "      <td>24.0</td>\n",
       "      <td>18.1</td>\n",
       "      <td>16.0</td>\n",
       "      <td>9.4</td>\n",
       "      <td>391.0</td>\n",
       "      <td>185.0</td>\n",
       "      <td>206.0</td>\n",
       "      <td>391.0</td>\n",
       "      <td>1.0</td>\n",
       "      <td>5.0</td>\n",
       "    </tr>\n",
       "  </tbody>\n",
       "</table>\n",
       "<p>5 rows × 29 columns</p>\n",
       "</div>"
      ],
      "text/plain": [
       "   Calendar Year  ACARA School ID  AGE ID                     School Name  \\\n",
       "0           2008            40000     3.0  Corpus Christi Catholic School   \n",
       "1           2009            40000     3.0  Corpus Christi Catholic School   \n",
       "2           2010            40000     3.0  Corpus Christi Catholic School   \n",
       "3           2011            40000     3.0  Corpus Christi Catholic School   \n",
       "4           2012            40000     3.0  Corpus Christi Catholic School   \n",
       "\n",
       "      Suburb State  Postcode School Sector School Type           Campus Type  \\\n",
       "0  BELLERIVE   TAS      7018      Catholic     Primary  School Single Entity   \n",
       "1  BELLERIVE   TAS      7018      Catholic     Primary  School Single Entity   \n",
       "2  BELLERIVE   TAS      7018      Catholic     Primary  School Single Entity   \n",
       "3  BELLERIVE   TAS      7018      Catholic     Primary  School Single Entity   \n",
       "4  BELLERIVE   TAS      7018      Catholic     Primary  School Single Entity   \n",
       "\n",
       "                    ...                   Teaching Staff  \\\n",
       "0                   ...                             29.0   \n",
       "1                   ...                             27.0   \n",
       "2                   ...                             26.0   \n",
       "3                   ...                             25.0   \n",
       "4                   ...                             24.0   \n",
       "\n",
       "  Full Time Equivalent Teaching Staff Non-Teaching Staff  \\\n",
       "0                                19.0               12.0   \n",
       "1                                19.1               15.0   \n",
       "2                                18.6               18.0   \n",
       "3                                18.1               16.0   \n",
       "4                                18.1               16.0   \n",
       "\n",
       "  Full Time Equivalent Non-Teaching Staff  Total Enrolments  Girls Enrolments  \\\n",
       "0                                     6.9             410.0             185.0   \n",
       "1                                     8.7             409.0             184.0   \n",
       "2                                    10.2             392.0             173.0   \n",
       "3                                     9.0             385.0             173.0   \n",
       "4                                     9.4             391.0             185.0   \n",
       "\n",
       "   Boys Enrolments  Full Time Equivalent Enrolments  Indigenous Enrolments  \\\n",
       "0            225.0                            410.0                    1.0   \n",
       "1            225.0                            409.0                    2.0   \n",
       "2            219.0                            392.0                    2.0   \n",
       "3            212.0                            385.0                    0.0   \n",
       "4            206.0                            391.0                    1.0   \n",
       "\n",
       "   Language Background Other Than English  \n",
       "0                                     NaN  \n",
       "1                                     3.0  \n",
       "2                                     4.0  \n",
       "3                                     2.0  \n",
       "4                                     5.0  \n",
       "\n",
       "[5 rows x 29 columns]"
      ]
     },
     "execution_count": 6,
     "metadata": {},
     "output_type": "execute_result"
    }
   ],
   "source": [
    "file = \"school-profile-2008-2017.xlsx\"\n",
    "xl = pd.read_excel(file, sheet_name=\"School Profile\")\n",
    "xl.head()"
   ]
  },
  {
   "cell_type": "code",
   "execution_count": 8,
   "metadata": {},
   "outputs": [
    {
     "data": {
      "text/plain": [
       "<pandas.core.groupby.groupby.DataFrameGroupBy object at 0x0000017CE41225F8>"
      ]
     },
     "execution_count": 8,
     "metadata": {},
     "output_type": "execute_result"
    }
   ],
   "source": [
    "xl.groupby('ACARA School ID')"
   ]
  },
  {
   "cell_type": "code",
   "execution_count": 11,
   "metadata": {},
   "outputs": [],
   "source": [
    "allSchoolIdsList = xl['ACARA School ID'].unique().tolist();"
   ]
  },
  {
   "cell_type": "code",
   "execution_count": null,
   "metadata": {},
   "outputs": [],
   "source": [
    "pickle_on = open(\"allSchoolIdsList.pickle\", \"wb\")\n",
    "pickle.dump(allSchoolIdsList, pickle_on)\n",
    "pickle_on.close()"
   ]
  },
  {
   "cell_type": "code",
   "execution_count": 14,
   "metadata": {},
   "outputs": [],
   "source": [
    "xl.to_pickle(\"allSchoolProfiles_df.pickle\")"
   ]
  },
  {
   "cell_type": "code",
   "execution_count": 25,
   "metadata": {},
   "outputs": [],
   "source": [
    "years = ['2008', '2009', '2010', '2011', '2012', '2013', '2014', '2015', '2016', '2017']"
   ]
  },
  {
   "cell_type": "code",
   "execution_count": 26,
   "metadata": {},
   "outputs": [
    {
     "data": {
      "text/html": [
       "<div>\n",
       "<style scoped>\n",
       "    .dataframe tbody tr th:only-of-type {\n",
       "        vertical-align: middle;\n",
       "    }\n",
       "\n",
       "    .dataframe tbody tr th {\n",
       "        vertical-align: top;\n",
       "    }\n",
       "\n",
       "    .dataframe thead th {\n",
       "        text-align: right;\n",
       "    }\n",
       "</style>\n",
       "<table border=\"1\" class=\"dataframe\">\n",
       "  <thead>\n",
       "    <tr style=\"text-align: right;\">\n",
       "      <th></th>\n",
       "      <th>Calendar Year</th>\n",
       "      <th>ACARA School ID</th>\n",
       "      <th>AGE ID</th>\n",
       "      <th>Postcode</th>\n",
       "      <th>ICSEA</th>\n",
       "      <th>Bottom SEA Quarter</th>\n",
       "      <th>Lower Middle SEA Quarter</th>\n",
       "      <th>Upper Middle SEA Quarter</th>\n",
       "      <th>Top SEA Quarter</th>\n",
       "      <th>Teaching Staff</th>\n",
       "      <th>Full Time Equivalent Teaching Staff</th>\n",
       "      <th>Non-Teaching Staff</th>\n",
       "      <th>Full Time Equivalent Non-Teaching Staff</th>\n",
       "      <th>Total Enrolments</th>\n",
       "      <th>Girls Enrolments</th>\n",
       "      <th>Boys Enrolments</th>\n",
       "      <th>Full Time Equivalent Enrolments</th>\n",
       "      <th>Indigenous Enrolments</th>\n",
       "      <th>Language Background Other Than English</th>\n",
       "    </tr>\n",
       "  </thead>\n",
       "  <tbody>\n",
       "    <tr>\n",
       "      <th>count</th>\n",
       "      <td>93080.000000</td>\n",
       "      <td>93080.000000</td>\n",
       "      <td>93007.000000</td>\n",
       "      <td>93080.000000</td>\n",
       "      <td>87588.000000</td>\n",
       "      <td>83348.000000</td>\n",
       "      <td>83348.000000</td>\n",
       "      <td>83348.000000</td>\n",
       "      <td>83348.000000</td>\n",
       "      <td>92479.000000</td>\n",
       "      <td>92479.000000</td>\n",
       "      <td>92436.000000</td>\n",
       "      <td>92436.000000</td>\n",
       "      <td>92378.000000</td>\n",
       "      <td>92376.000000</td>\n",
       "      <td>92376.000000</td>\n",
       "      <td>92377.000000</td>\n",
       "      <td>88979.000000</td>\n",
       "      <td>71208.000000</td>\n",
       "    </tr>\n",
       "    <tr>\n",
       "      <th>mean</th>\n",
       "      <td>2012.540718</td>\n",
       "      <td>45343.110120</td>\n",
       "      <td>10257.724988</td>\n",
       "      <td>3747.442168</td>\n",
       "      <td>1000.512353</td>\n",
       "      <td>28.350074</td>\n",
       "      <td>25.049299</td>\n",
       "      <td>24.976544</td>\n",
       "      <td>21.636560</td>\n",
       "      <td>30.803869</td>\n",
       "      <td>28.083741</td>\n",
       "      <td>15.497912</td>\n",
       "      <td>10.814397</td>\n",
       "      <td>392.421518</td>\n",
       "      <td>192.206255</td>\n",
       "      <td>200.247012</td>\n",
       "      <td>389.501501</td>\n",
       "      <td>8.647130</td>\n",
       "      <td>21.197885</td>\n",
       "    </tr>\n",
       "    <tr>\n",
       "      <th>std</th>\n",
       "      <td>2.874345</td>\n",
       "      <td>2931.868436</td>\n",
       "      <td>7079.180927</td>\n",
       "      <td>1468.742433</td>\n",
       "      <td>100.053756</td>\n",
       "      <td>23.514190</td>\n",
       "      <td>13.840919</td>\n",
       "      <td>13.097412</td>\n",
       "      <td>21.655661</td>\n",
       "      <td>31.180814</td>\n",
       "      <td>30.292279</td>\n",
       "      <td>17.588374</td>\n",
       "      <td>12.900190</td>\n",
       "      <td>372.492366</td>\n",
       "      <td>202.193440</td>\n",
       "      <td>215.171270</td>\n",
       "      <td>367.597412</td>\n",
       "      <td>17.210745</td>\n",
       "      <td>25.011018</td>\n",
       "    </tr>\n",
       "    <tr>\n",
       "      <th>min</th>\n",
       "      <td>2008.000000</td>\n",
       "      <td>40000.000000</td>\n",
       "      <td>3.000000</td>\n",
       "      <td>800.000000</td>\n",
       "      <td>100.000000</td>\n",
       "      <td>0.000000</td>\n",
       "      <td>0.000000</td>\n",
       "      <td>0.000000</td>\n",
       "      <td>0.000000</td>\n",
       "      <td>0.000000</td>\n",
       "      <td>0.000000</td>\n",
       "      <td>0.000000</td>\n",
       "      <td>0.000000</td>\n",
       "      <td>0.000000</td>\n",
       "      <td>0.000000</td>\n",
       "      <td>0.000000</td>\n",
       "      <td>0.000000</td>\n",
       "      <td>0.000000</td>\n",
       "      <td>0.000000</td>\n",
       "    </tr>\n",
       "    <tr>\n",
       "      <th>25%</th>\n",
       "      <td>2010.000000</td>\n",
       "      <td>42813.000000</td>\n",
       "      <td>6522.000000</td>\n",
       "      <td>2540.000000</td>\n",
       "      <td>955.000000</td>\n",
       "      <td>9.000000</td>\n",
       "      <td>16.000000</td>\n",
       "      <td>17.000000</td>\n",
       "      <td>5.000000</td>\n",
       "      <td>11.000000</td>\n",
       "      <td>9.500000</td>\n",
       "      <td>5.000000</td>\n",
       "      <td>3.000000</td>\n",
       "      <td>116.000000</td>\n",
       "      <td>49.000000</td>\n",
       "      <td>54.000000</td>\n",
       "      <td>114.600000</td>\n",
       "      <td>1.000000</td>\n",
       "      <td>4.000000</td>\n",
       "    </tr>\n",
       "    <tr>\n",
       "      <th>50%</th>\n",
       "      <td>2013.000000</td>\n",
       "      <td>45311.000000</td>\n",
       "      <td>9920.000000</td>\n",
       "      <td>3341.000000</td>\n",
       "      <td>1004.000000</td>\n",
       "      <td>23.000000</td>\n",
       "      <td>26.000000</td>\n",
       "      <td>26.000000</td>\n",
       "      <td>14.000000</td>\n",
       "      <td>22.000000</td>\n",
       "      <td>19.500000</td>\n",
       "      <td>10.000000</td>\n",
       "      <td>6.600000</td>\n",
       "      <td>293.000000</td>\n",
       "      <td>137.000000</td>\n",
       "      <td>143.000000</td>\n",
       "      <td>291.000000</td>\n",
       "      <td>3.000000</td>\n",
       "      <td>10.000000</td>\n",
       "    </tr>\n",
       "    <tr>\n",
       "      <th>75%</th>\n",
       "      <td>2015.000000</td>\n",
       "      <td>47876.000000</td>\n",
       "      <td>13035.000000</td>\n",
       "      <td>4740.000000</td>\n",
       "      <td>1058.000000</td>\n",
       "      <td>43.000000</td>\n",
       "      <td>32.000000</td>\n",
       "      <td>32.000000</td>\n",
       "      <td>31.000000</td>\n",
       "      <td>39.000000</td>\n",
       "      <td>36.000000</td>\n",
       "      <td>19.000000</td>\n",
       "      <td>13.700000</td>\n",
       "      <td>549.000000</td>\n",
       "      <td>261.000000</td>\n",
       "      <td>270.000000</td>\n",
       "      <td>545.200000</td>\n",
       "      <td>8.000000</td>\n",
       "      <td>29.000000</td>\n",
       "    </tr>\n",
       "    <tr>\n",
       "      <th>max</th>\n",
       "      <td>2017.000000</td>\n",
       "      <td>52527.000000</td>\n",
       "      <td>84952.000000</td>\n",
       "      <td>7470.000000</td>\n",
       "      <td>1390.000000</td>\n",
       "      <td>100.000000</td>\n",
       "      <td>100.000000</td>\n",
       "      <td>100.000000</td>\n",
       "      <td>100.000000</td>\n",
       "      <td>460.000000</td>\n",
       "      <td>3209.000000</td>\n",
       "      <td>382.000000</td>\n",
       "      <td>202.100000</td>\n",
       "      <td>5600.000000</td>\n",
       "      <td>2847.000000</td>\n",
       "      <td>2835.000000</td>\n",
       "      <td>3754.000000</td>\n",
       "      <td>100.000000</td>\n",
       "      <td>199.000000</td>\n",
       "    </tr>\n",
       "  </tbody>\n",
       "</table>\n",
       "</div>"
      ],
      "text/plain": [
       "       Calendar Year  ACARA School ID        AGE ID      Postcode  \\\n",
       "count   93080.000000     93080.000000  93007.000000  93080.000000   \n",
       "mean     2012.540718     45343.110120  10257.724988   3747.442168   \n",
       "std         2.874345      2931.868436   7079.180927   1468.742433   \n",
       "min      2008.000000     40000.000000      3.000000    800.000000   \n",
       "25%      2010.000000     42813.000000   6522.000000   2540.000000   \n",
       "50%      2013.000000     45311.000000   9920.000000   3341.000000   \n",
       "75%      2015.000000     47876.000000  13035.000000   4740.000000   \n",
       "max      2017.000000     52527.000000  84952.000000   7470.000000   \n",
       "\n",
       "              ICSEA  Bottom SEA Quarter  Lower Middle SEA Quarter  \\\n",
       "count  87588.000000        83348.000000              83348.000000   \n",
       "mean    1000.512353           28.350074                 25.049299   \n",
       "std      100.053756           23.514190                 13.840919   \n",
       "min      100.000000            0.000000                  0.000000   \n",
       "25%      955.000000            9.000000                 16.000000   \n",
       "50%     1004.000000           23.000000                 26.000000   \n",
       "75%     1058.000000           43.000000                 32.000000   \n",
       "max     1390.000000          100.000000                100.000000   \n",
       "\n",
       "       Upper Middle SEA Quarter  Top SEA Quarter  Teaching Staff  \\\n",
       "count              83348.000000     83348.000000    92479.000000   \n",
       "mean                  24.976544        21.636560       30.803869   \n",
       "std                   13.097412        21.655661       31.180814   \n",
       "min                    0.000000         0.000000        0.000000   \n",
       "25%                   17.000000         5.000000       11.000000   \n",
       "50%                   26.000000        14.000000       22.000000   \n",
       "75%                   32.000000        31.000000       39.000000   \n",
       "max                  100.000000       100.000000      460.000000   \n",
       "\n",
       "       Full Time Equivalent Teaching Staff  Non-Teaching Staff  \\\n",
       "count                         92479.000000        92436.000000   \n",
       "mean                             28.083741           15.497912   \n",
       "std                              30.292279           17.588374   \n",
       "min                               0.000000            0.000000   \n",
       "25%                               9.500000            5.000000   \n",
       "50%                              19.500000           10.000000   \n",
       "75%                              36.000000           19.000000   \n",
       "max                            3209.000000          382.000000   \n",
       "\n",
       "       Full Time Equivalent Non-Teaching Staff  Total Enrolments  \\\n",
       "count                             92436.000000      92378.000000   \n",
       "mean                                 10.814397        392.421518   \n",
       "std                                  12.900190        372.492366   \n",
       "min                                   0.000000          0.000000   \n",
       "25%                                   3.000000        116.000000   \n",
       "50%                                   6.600000        293.000000   \n",
       "75%                                  13.700000        549.000000   \n",
       "max                                 202.100000       5600.000000   \n",
       "\n",
       "       Girls Enrolments  Boys Enrolments  Full Time Equivalent Enrolments  \\\n",
       "count      92376.000000     92376.000000                     92377.000000   \n",
       "mean         192.206255       200.247012                       389.501501   \n",
       "std          202.193440       215.171270                       367.597412   \n",
       "min            0.000000         0.000000                         0.000000   \n",
       "25%           49.000000        54.000000                       114.600000   \n",
       "50%          137.000000       143.000000                       291.000000   \n",
       "75%          261.000000       270.000000                       545.200000   \n",
       "max         2847.000000      2835.000000                      3754.000000   \n",
       "\n",
       "       Indigenous Enrolments  Language Background Other Than English  \n",
       "count           88979.000000                            71208.000000  \n",
       "mean                8.647130                               21.197885  \n",
       "std                17.210745                               25.011018  \n",
       "min                 0.000000                                0.000000  \n",
       "25%                 1.000000                                4.000000  \n",
       "50%                 3.000000                               10.000000  \n",
       "75%                 8.000000                               29.000000  \n",
       "max               100.000000                              199.000000  "
      ]
     },
     "execution_count": 26,
     "metadata": {},
     "output_type": "execute_result"
    }
   ],
   "source": [
    "xl.describe()"
   ]
  },
  {
   "cell_type": "code",
   "execution_count": 27,
   "metadata": {},
   "outputs": [
    {
     "name": "stdout",
     "output_type": "stream",
     "text": [
      "<class 'pandas.core.frame.DataFrame'>\n",
      "RangeIndex: 93080 entries, 0 to 93079\n",
      "Data columns (total 29 columns):\n",
      "Calendar Year                              93080 non-null int64\n",
      "ACARA School ID                            93080 non-null int64\n",
      "AGE ID                                     93007 non-null float64\n",
      "School Name                                93080 non-null object\n",
      "Suburb                                     93080 non-null object\n",
      "State                                      93080 non-null object\n",
      "Postcode                                   93080 non-null int64\n",
      "School Sector                              93080 non-null object\n",
      "School Type                                93080 non-null object\n",
      "Campus Type                                93080 non-null object\n",
      "Rolled Reporting Description               93080 non-null object\n",
      "School URL                                 9399 non-null object\n",
      "Year Range                                 84753 non-null object\n",
      "Geolocation                                92874 non-null object\n",
      "ICSEA                                      87588 non-null float64\n",
      "Bottom SEA Quarter                         83348 non-null float64\n",
      "Lower Middle SEA Quarter                   83348 non-null float64\n",
      "Upper Middle SEA Quarter                   83348 non-null float64\n",
      "Top SEA Quarter                            83348 non-null float64\n",
      "Teaching Staff                             92479 non-null float64\n",
      "Full Time Equivalent Teaching Staff        92479 non-null float64\n",
      "Non-Teaching Staff                         92436 non-null float64\n",
      "Full Time Equivalent Non-Teaching Staff    92436 non-null float64\n",
      "Total Enrolments                           92378 non-null float64\n",
      "Girls Enrolments                           92376 non-null float64\n",
      "Boys Enrolments                            92376 non-null float64\n",
      "Full Time Equivalent Enrolments            92377 non-null float64\n",
      "Indigenous Enrolments                      88979 non-null float64\n",
      "Language Background Other Than English     71208 non-null float64\n",
      "dtypes: float64(16), int64(3), object(10)\n",
      "memory usage: 20.6+ MB\n"
     ]
    }
   ],
   "source": [
    "xl.info()"
   ]
  },
  {
   "cell_type": "code",
   "execution_count": 65,
   "metadata": {},
   "outputs": [
    {
     "data": {
      "text/plain": [
       "[2008, 2009, 2010, 2011, 2012, 2013, 2014, 2015, 2016, 2017]"
      ]
     },
     "execution_count": 65,
     "metadata": {},
     "output_type": "execute_result"
    }
   ],
   "source": [
    "years_int = [int(y) for y in years]\n",
    "years_int"
   ]
  },
  {
   "cell_type": "code",
   "execution_count": 63,
   "metadata": {},
   "outputs": [
    {
     "data": {
      "text/html": [
       "<div>\n",
       "<style scoped>\n",
       "    .dataframe tbody tr th:only-of-type {\n",
       "        vertical-align: middle;\n",
       "    }\n",
       "\n",
       "    .dataframe tbody tr th {\n",
       "        vertical-align: top;\n",
       "    }\n",
       "\n",
       "    .dataframe thead th {\n",
       "        text-align: right;\n",
       "    }\n",
       "</style>\n",
       "<table border=\"1\" class=\"dataframe\">\n",
       "  <thead>\n",
       "    <tr style=\"text-align: right;\">\n",
       "      <th></th>\n",
       "      <th>ACARA School ID</th>\n",
       "    </tr>\n",
       "    <tr>\n",
       "      <th>Calendar Year</th>\n",
       "      <th></th>\n",
       "    </tr>\n",
       "  </thead>\n",
       "  <tbody>\n",
       "    <tr>\n",
       "      <th>2008</th>\n",
       "      <td>40000</td>\n",
       "    </tr>\n",
       "    <tr>\n",
       "      <th>2008</th>\n",
       "      <td>40001</td>\n",
       "    </tr>\n",
       "    <tr>\n",
       "      <th>2008</th>\n",
       "      <td>40002</td>\n",
       "    </tr>\n",
       "    <tr>\n",
       "      <th>2008</th>\n",
       "      <td>40003</td>\n",
       "    </tr>\n",
       "    <tr>\n",
       "      <th>2008</th>\n",
       "      <td>40004</td>\n",
       "    </tr>\n",
       "  </tbody>\n",
       "</table>\n",
       "</div>"
      ],
      "text/plain": [
       "               ACARA School ID\n",
       "Calendar Year                 \n",
       "2008                     40000\n",
       "2008                     40001\n",
       "2008                     40002\n",
       "2008                     40003\n",
       "2008                     40004"
      ]
     },
     "execution_count": 63,
     "metadata": {},
     "output_type": "execute_result"
    }
   ],
   "source": [
    "all_school_years_df = xl.iloc[:, [0,1]].sort_values(['Calendar Year', 'ACARA School ID']\n",
    "                                                ).set_index('Calendar Year')\n",
    "\n",
    "all_school_years_df.head()"
   ]
  },
  {
   "cell_type": "code",
   "execution_count": 64,
   "metadata": {},
   "outputs": [],
   "source": [
    "all_school_years_df.to_pickle(\"all_school_years_df.pickle\")"
   ]
  },
  {
   "cell_type": "code",
   "execution_count": 66,
   "metadata": {},
   "outputs": [
    {
     "data": {
      "text/plain": [
       "[40000, 40001, 40002, 40003, 40004]"
      ]
     },
     "execution_count": 66,
     "metadata": {},
     "output_type": "execute_result"
    }
   ],
   "source": [
    "year_df = all_school_years.loc[years_int[0]]\n",
    "one_yr_list = year_df['ACARA School ID'].values.tolist()\n",
    "one_yr_list[:5]"
   ]
  },
  {
   "cell_type": "code",
   "execution_count": 70,
   "metadata": {},
   "outputs": [
    {
     "data": {
      "text/plain": [
       "1"
      ]
     },
     "execution_count": 70,
     "metadata": {},
     "output_type": "execute_result"
    }
   ],
   "source": [
    "len('y')"
   ]
  },
  {
   "cell_type": "code",
   "execution_count": 75,
   "metadata": {},
   "outputs": [
    {
     "name": "stdout",
     "output_type": "stream",
     "text": [
      "0 <class 'int'>\n"
     ]
    }
   ],
   "source": [
    "for y in '0':\n",
    "    z = int(y)\n",
    "    print(z, type(z))"
   ]
  },
  {
   "cell_type": "code",
   "execution_count": 77,
   "metadata": {},
   "outputs": [
    {
     "data": {
      "text/plain": [
       "Index(['Calendar Year', 'ACARA School ID', 'AGE ID', 'School Name', 'Suburb',\n",
       "       'State', 'Postcode', 'School Sector', 'School Type', 'Campus Type',\n",
       "       'Rolled Reporting Description', 'School URL', 'Year Range',\n",
       "       'Geolocation', 'ICSEA', 'Bottom SEA Quarter',\n",
       "       'Lower Middle SEA Quarter', 'Upper Middle SEA Quarter',\n",
       "       'Top SEA Quarter', 'Teaching Staff',\n",
       "       'Full Time Equivalent Teaching Staff', 'Non-Teaching Staff',\n",
       "       'Full Time Equivalent Non-Teaching Staff', 'Total Enrolments',\n",
       "       'Girls Enrolments', 'Boys Enrolments',\n",
       "       'Full Time Equivalent Enrolments', 'Indigenous Enrolments',\n",
       "       'Language Background Other Than English'],\n",
       "      dtype='object')"
      ]
     },
     "execution_count": 77,
     "metadata": {},
     "output_type": "execute_result"
    }
   ],
   "source": [
    "xl.columns"
   ]
  },
  {
   "cell_type": "code",
   "execution_count": 83,
   "metadata": {},
   "outputs": [
    {
     "data": {
      "text/html": [
       "<div>\n",
       "<style scoped>\n",
       "    .dataframe tbody tr th:only-of-type {\n",
       "        vertical-align: middle;\n",
       "    }\n",
       "\n",
       "    .dataframe tbody tr th {\n",
       "        vertical-align: top;\n",
       "    }\n",
       "\n",
       "    .dataframe thead th {\n",
       "        text-align: right;\n",
       "    }\n",
       "</style>\n",
       "<table border=\"1\" class=\"dataframe\">\n",
       "  <thead>\n",
       "    <tr style=\"text-align: right;\">\n",
       "      <th></th>\n",
       "      <th>Calendar Year</th>\n",
       "      <th>ACARA School ID</th>\n",
       "      <th>AGE ID</th>\n",
       "      <th>School Name</th>\n",
       "      <th>Suburb</th>\n",
       "      <th>State</th>\n",
       "      <th>Postcode</th>\n",
       "      <th>School Sector</th>\n",
       "      <th>School Type</th>\n",
       "      <th>Campus Type</th>\n",
       "      <th>...</th>\n",
       "      <th>Teaching Staff</th>\n",
       "      <th>Full Time Equivalent Teaching Staff</th>\n",
       "      <th>Non-Teaching Staff</th>\n",
       "      <th>Full Time Equivalent Non-Teaching Staff</th>\n",
       "      <th>Total Enrolments</th>\n",
       "      <th>Girls Enrolments</th>\n",
       "      <th>Boys Enrolments</th>\n",
       "      <th>Full Time Equivalent Enrolments</th>\n",
       "      <th>Indigenous Enrolments</th>\n",
       "      <th>Language Background Other Than English</th>\n",
       "    </tr>\n",
       "  </thead>\n",
       "  <tbody>\n",
       "    <tr>\n",
       "      <th>13344</th>\n",
       "      <td>2008</td>\n",
       "      <td>41797</td>\n",
       "      <td>6413.0</td>\n",
       "      <td>Halinda School</td>\n",
       "      <td>WHALAN</td>\n",
       "      <td>NSW</td>\n",
       "      <td>2770</td>\n",
       "      <td>Government</td>\n",
       "      <td>Special</td>\n",
       "      <td>School Single Entity</td>\n",
       "      <td>...</td>\n",
       "      <td>21.0</td>\n",
       "      <td>21.0</td>\n",
       "      <td>19.0</td>\n",
       "      <td>19.3</td>\n",
       "      <td>106.0</td>\n",
       "      <td>35.0</td>\n",
       "      <td>71.0</td>\n",
       "      <td>106.0</td>\n",
       "      <td>6.0</td>\n",
       "      <td>NaN</td>\n",
       "    </tr>\n",
       "    <tr>\n",
       "      <th>13345</th>\n",
       "      <td>2009</td>\n",
       "      <td>41797</td>\n",
       "      <td>6413.0</td>\n",
       "      <td>Halinda School</td>\n",
       "      <td>WHALAN</td>\n",
       "      <td>NSW</td>\n",
       "      <td>2770</td>\n",
       "      <td>Government</td>\n",
       "      <td>Special</td>\n",
       "      <td>School Single Entity</td>\n",
       "      <td>...</td>\n",
       "      <td>20.0</td>\n",
       "      <td>21.2</td>\n",
       "      <td>20.0</td>\n",
       "      <td>19.3</td>\n",
       "      <td>106.0</td>\n",
       "      <td>35.0</td>\n",
       "      <td>71.0</td>\n",
       "      <td>106.0</td>\n",
       "      <td>6.0</td>\n",
       "      <td>NaN</td>\n",
       "    </tr>\n",
       "    <tr>\n",
       "      <th>13346</th>\n",
       "      <td>2010</td>\n",
       "      <td>41797</td>\n",
       "      <td>6413.0</td>\n",
       "      <td>Halinda School</td>\n",
       "      <td>WHALAN</td>\n",
       "      <td>NSW</td>\n",
       "      <td>2770</td>\n",
       "      <td>Government</td>\n",
       "      <td>Special</td>\n",
       "      <td>School Single Entity</td>\n",
       "      <td>...</td>\n",
       "      <td>21.0</td>\n",
       "      <td>23.4</td>\n",
       "      <td>23.0</td>\n",
       "      <td>21.3</td>\n",
       "      <td>121.0</td>\n",
       "      <td>39.0</td>\n",
       "      <td>82.0</td>\n",
       "      <td>121.0</td>\n",
       "      <td>5.0</td>\n",
       "      <td>45.0</td>\n",
       "    </tr>\n",
       "    <tr>\n",
       "      <th>13347</th>\n",
       "      <td>2011</td>\n",
       "      <td>41797</td>\n",
       "      <td>6413.0</td>\n",
       "      <td>Halinda School</td>\n",
       "      <td>WHALAN</td>\n",
       "      <td>NSW</td>\n",
       "      <td>2770</td>\n",
       "      <td>Government</td>\n",
       "      <td>Special</td>\n",
       "      <td>School Single Entity</td>\n",
       "      <td>...</td>\n",
       "      <td>22.0</td>\n",
       "      <td>23.5</td>\n",
       "      <td>22.0</td>\n",
       "      <td>21.3</td>\n",
       "      <td>119.0</td>\n",
       "      <td>37.0</td>\n",
       "      <td>82.0</td>\n",
       "      <td>119.0</td>\n",
       "      <td>4.0</td>\n",
       "      <td>34.0</td>\n",
       "    </tr>\n",
       "    <tr>\n",
       "      <th>13348</th>\n",
       "      <td>2012</td>\n",
       "      <td>41797</td>\n",
       "      <td>6413.0</td>\n",
       "      <td>Halinda School</td>\n",
       "      <td>WHALAN</td>\n",
       "      <td>NSW</td>\n",
       "      <td>2770</td>\n",
       "      <td>Government</td>\n",
       "      <td>Special</td>\n",
       "      <td>School Single Entity</td>\n",
       "      <td>...</td>\n",
       "      <td>21.0</td>\n",
       "      <td>22.4</td>\n",
       "      <td>23.0</td>\n",
       "      <td>21.3</td>\n",
       "      <td>119.0</td>\n",
       "      <td>38.0</td>\n",
       "      <td>81.0</td>\n",
       "      <td>119.0</td>\n",
       "      <td>4.0</td>\n",
       "      <td>58.0</td>\n",
       "    </tr>\n",
       "    <tr>\n",
       "      <th>13349</th>\n",
       "      <td>2013</td>\n",
       "      <td>41797</td>\n",
       "      <td>6413.0</td>\n",
       "      <td>Halinda School</td>\n",
       "      <td>WHALAN</td>\n",
       "      <td>NSW</td>\n",
       "      <td>2770</td>\n",
       "      <td>Government</td>\n",
       "      <td>Special</td>\n",
       "      <td>School Single Entity</td>\n",
       "      <td>...</td>\n",
       "      <td>18.0</td>\n",
       "      <td>22.4</td>\n",
       "      <td>23.0</td>\n",
       "      <td>21.3</td>\n",
       "      <td>120.0</td>\n",
       "      <td>40.0</td>\n",
       "      <td>80.0</td>\n",
       "      <td>120.0</td>\n",
       "      <td>6.0</td>\n",
       "      <td>49.0</td>\n",
       "    </tr>\n",
       "    <tr>\n",
       "      <th>13350</th>\n",
       "      <td>2014</td>\n",
       "      <td>41797</td>\n",
       "      <td>6413.0</td>\n",
       "      <td>Halinda School</td>\n",
       "      <td>WHALAN</td>\n",
       "      <td>NSW</td>\n",
       "      <td>2770</td>\n",
       "      <td>Government</td>\n",
       "      <td>Special</td>\n",
       "      <td>School Single Entity</td>\n",
       "      <td>...</td>\n",
       "      <td>20.0</td>\n",
       "      <td>22.6</td>\n",
       "      <td>20.0</td>\n",
       "      <td>21.3</td>\n",
       "      <td>117.0</td>\n",
       "      <td>43.0</td>\n",
       "      <td>74.0</td>\n",
       "      <td>117.0</td>\n",
       "      <td>7.0</td>\n",
       "      <td>50.0</td>\n",
       "    </tr>\n",
       "    <tr>\n",
       "      <th>13351</th>\n",
       "      <td>2015</td>\n",
       "      <td>41797</td>\n",
       "      <td>6413.0</td>\n",
       "      <td>Halinda School</td>\n",
       "      <td>WHALAN</td>\n",
       "      <td>NSW</td>\n",
       "      <td>2770</td>\n",
       "      <td>Government</td>\n",
       "      <td>Special</td>\n",
       "      <td>School Single Entity</td>\n",
       "      <td>...</td>\n",
       "      <td>21.0</td>\n",
       "      <td>23.5</td>\n",
       "      <td>20.0</td>\n",
       "      <td>22.3</td>\n",
       "      <td>114.0</td>\n",
       "      <td>36.0</td>\n",
       "      <td>78.0</td>\n",
       "      <td>114.0</td>\n",
       "      <td>6.0</td>\n",
       "      <td>50.0</td>\n",
       "    </tr>\n",
       "    <tr>\n",
       "      <th>13352</th>\n",
       "      <td>2016</td>\n",
       "      <td>41797</td>\n",
       "      <td>6413.0</td>\n",
       "      <td>Halinda School</td>\n",
       "      <td>WHALAN</td>\n",
       "      <td>NSW</td>\n",
       "      <td>2770</td>\n",
       "      <td>Government</td>\n",
       "      <td>Special</td>\n",
       "      <td>School Single Entity</td>\n",
       "      <td>...</td>\n",
       "      <td>19.0</td>\n",
       "      <td>23.5</td>\n",
       "      <td>20.0</td>\n",
       "      <td>22.3</td>\n",
       "      <td>113.0</td>\n",
       "      <td>32.0</td>\n",
       "      <td>81.0</td>\n",
       "      <td>113.0</td>\n",
       "      <td>8.0</td>\n",
       "      <td>49.0</td>\n",
       "    </tr>\n",
       "    <tr>\n",
       "      <th>13353</th>\n",
       "      <td>2017</td>\n",
       "      <td>41797</td>\n",
       "      <td>6413.0</td>\n",
       "      <td>Halinda School</td>\n",
       "      <td>WHALAN</td>\n",
       "      <td>NSW</td>\n",
       "      <td>2770</td>\n",
       "      <td>Government</td>\n",
       "      <td>Special</td>\n",
       "      <td>School Single Entity</td>\n",
       "      <td>...</td>\n",
       "      <td>21.0</td>\n",
       "      <td>23.6</td>\n",
       "      <td>20.0</td>\n",
       "      <td>22.3</td>\n",
       "      <td>114.0</td>\n",
       "      <td>31.0</td>\n",
       "      <td>83.0</td>\n",
       "      <td>114.0</td>\n",
       "      <td>9.0</td>\n",
       "      <td>50.0</td>\n",
       "    </tr>\n",
       "  </tbody>\n",
       "</table>\n",
       "<p>10 rows × 29 columns</p>\n",
       "</div>"
      ],
      "text/plain": [
       "       Calendar Year  ACARA School ID  AGE ID     School Name  Suburb State  \\\n",
       "13344           2008            41797  6413.0  Halinda School  WHALAN   NSW   \n",
       "13345           2009            41797  6413.0  Halinda School  WHALAN   NSW   \n",
       "13346           2010            41797  6413.0  Halinda School  WHALAN   NSW   \n",
       "13347           2011            41797  6413.0  Halinda School  WHALAN   NSW   \n",
       "13348           2012            41797  6413.0  Halinda School  WHALAN   NSW   \n",
       "13349           2013            41797  6413.0  Halinda School  WHALAN   NSW   \n",
       "13350           2014            41797  6413.0  Halinda School  WHALAN   NSW   \n",
       "13351           2015            41797  6413.0  Halinda School  WHALAN   NSW   \n",
       "13352           2016            41797  6413.0  Halinda School  WHALAN   NSW   \n",
       "13353           2017            41797  6413.0  Halinda School  WHALAN   NSW   \n",
       "\n",
       "       Postcode School Sector School Type           Campus Type  \\\n",
       "13344      2770    Government     Special  School Single Entity   \n",
       "13345      2770    Government     Special  School Single Entity   \n",
       "13346      2770    Government     Special  School Single Entity   \n",
       "13347      2770    Government     Special  School Single Entity   \n",
       "13348      2770    Government     Special  School Single Entity   \n",
       "13349      2770    Government     Special  School Single Entity   \n",
       "13350      2770    Government     Special  School Single Entity   \n",
       "13351      2770    Government     Special  School Single Entity   \n",
       "13352      2770    Government     Special  School Single Entity   \n",
       "13353      2770    Government     Special  School Single Entity   \n",
       "\n",
       "                        ...                   Teaching Staff  \\\n",
       "13344                   ...                             21.0   \n",
       "13345                   ...                             20.0   \n",
       "13346                   ...                             21.0   \n",
       "13347                   ...                             22.0   \n",
       "13348                   ...                             21.0   \n",
       "13349                   ...                             18.0   \n",
       "13350                   ...                             20.0   \n",
       "13351                   ...                             21.0   \n",
       "13352                   ...                             19.0   \n",
       "13353                   ...                             21.0   \n",
       "\n",
       "      Full Time Equivalent Teaching Staff Non-Teaching Staff  \\\n",
       "13344                                21.0               19.0   \n",
       "13345                                21.2               20.0   \n",
       "13346                                23.4               23.0   \n",
       "13347                                23.5               22.0   \n",
       "13348                                22.4               23.0   \n",
       "13349                                22.4               23.0   \n",
       "13350                                22.6               20.0   \n",
       "13351                                23.5               20.0   \n",
       "13352                                23.5               20.0   \n",
       "13353                                23.6               20.0   \n",
       "\n",
       "      Full Time Equivalent Non-Teaching Staff  Total Enrolments  \\\n",
       "13344                                    19.3             106.0   \n",
       "13345                                    19.3             106.0   \n",
       "13346                                    21.3             121.0   \n",
       "13347                                    21.3             119.0   \n",
       "13348                                    21.3             119.0   \n",
       "13349                                    21.3             120.0   \n",
       "13350                                    21.3             117.0   \n",
       "13351                                    22.3             114.0   \n",
       "13352                                    22.3             113.0   \n",
       "13353                                    22.3             114.0   \n",
       "\n",
       "       Girls Enrolments  Boys Enrolments  Full Time Equivalent Enrolments  \\\n",
       "13344              35.0             71.0                            106.0   \n",
       "13345              35.0             71.0                            106.0   \n",
       "13346              39.0             82.0                            121.0   \n",
       "13347              37.0             82.0                            119.0   \n",
       "13348              38.0             81.0                            119.0   \n",
       "13349              40.0             80.0                            120.0   \n",
       "13350              43.0             74.0                            117.0   \n",
       "13351              36.0             78.0                            114.0   \n",
       "13352              32.0             81.0                            113.0   \n",
       "13353              31.0             83.0                            114.0   \n",
       "\n",
       "       Indigenous Enrolments  Language Background Other Than English  \n",
       "13344                    6.0                                     NaN  \n",
       "13345                    6.0                                     NaN  \n",
       "13346                    5.0                                    45.0  \n",
       "13347                    4.0                                    34.0  \n",
       "13348                    4.0                                    58.0  \n",
       "13349                    6.0                                    49.0  \n",
       "13350                    7.0                                    50.0  \n",
       "13351                    6.0                                    50.0  \n",
       "13352                    8.0                                    49.0  \n",
       "13353                    9.0                                    50.0  \n",
       "\n",
       "[10 rows x 29 columns]"
      ]
     },
     "execution_count": 83,
     "metadata": {},
     "output_type": "execute_result"
    }
   ],
   "source": [
    "xl.loc[xl['ACARA School ID'] == 41797, :]"
   ]
  },
  {
   "cell_type": "code",
   "execution_count": null,
   "metadata": {},
   "outputs": [],
   "source": []
  }
 ],
 "metadata": {
  "kernelspec": {
   "display_name": "Python (Courses)",
   "language": "python",
   "name": "courses"
  },
  "language_info": {
   "codemirror_mode": {
    "name": "ipython",
    "version": 3
   },
   "file_extension": ".py",
   "mimetype": "text/x-python",
   "name": "python",
   "nbconvert_exporter": "python",
   "pygments_lexer": "ipython3",
   "version": "3.6.6"
  }
 },
 "nbformat": 4,
 "nbformat_minor": 2
}
