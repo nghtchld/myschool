{
 "cells": [
  {
   "cell_type": "markdown",
   "metadata": {},
   "source": [
    "# MySchool data scraping project"
   ]
  },
  {
   "cell_type": "markdown",
   "metadata": {},
   "source": [
    "## Done\n",
    "* Done the basic data scraping from a base school starting page.\n",
    "* Done the basic POST Request to get other grade, domain and viewMode from base page\n",
    "* Done write dictionaries for year, grade, domain and viewMode\n",
    "* Done worked out how to change year of data, adding year to end of URL\n",
    "* DONE dl schools list file and import lists / df of name and Id\n",
    "* NOT NEEDED instead generate schoolsId list from first results page (was * RE pattern needed to scrape school group list from that view)\n",
    "\n",
    "## BIG TODO\n",
    "* write the loop using the Loop Structure plan below for cycling through the school groups\n",
    "* write the loop for removing the collected schoolIds / rows from the total list / df\n",
    "\n",
    "## TODO\n",
    "* git this project\n",
    "* write function defs for cleaning etc\n",
    "* write classes for the functions\n",
    "* do EDA and subsequent Analysis and Visualisations\n",
    "\n",
    "## Biggest TODO\n",
    "* github and docker and setup project\n",
    "* add high school data\n",
    "* turn all data into various df, DB, linked table objects\n",
    "* make visualisations interactive / animated\n",
    "* make visualisations website\n",
    "* write unit-tests, exception catching, error raising etc\n"
   ]
  },
  {
   "cell_type": "markdown",
   "metadata": {},
   "source": [
    "# Loop structure"
   ]
  },
  {
   "cell_type": "markdown",
   "metadata": {},
   "source": [
    "* set up vars, lists, dicts for generating Requests \n",
    "\n",
    "* check there are remaining schools\n",
    "* starting with the first schools ID on the all schools  list / df \n",
    "* Request the school list View for the group of similar schools\n",
    "* initiate storage lists and DF using schools list group data\n",
    "* Request the base data page View (Year 3, Reading, 2017)\n",
    "* Request data, clean and extract, listify, make temp df and Append final DF\n",
    "* loop data requests through:\n",
    "    * domains, then years, then Year 5 domains, then years\n",
    "    * reuse storage lists and temp df, Append final DF\n",
    "* remove the schools in this group from the all schools list / df\n",
    "* restart the loop with the next schoolId, if any remaining"
   ]
  },
  {
   "cell_type": "markdown",
   "metadata": {},
   "source": [
    "## Dictionaries and Lists of POST data"
   ]
  },
  {
   "cell_type": "code",
   "execution_count": 2,
   "metadata": {},
   "outputs": [],
   "source": [
    "years = ['2008', '2009', '2010', '2011', '2012', '2013', '2014', '2015', '2016', '2017']\n",
    "\n",
    "ViewModeId = [0,1,2]\n",
    "d_ViewModeId = {\n",
    "    'Similar schools' : 0,\n",
    "    'Similar schools list' : 1,\n",
    "    'All schools' : 2\n",
    "    }\n",
    "\n",
    "DomainId = [1,2,4,5,6]\n",
    "d_DomainId = {\n",
    "    'Reading' : 1,\n",
    "    'Writing' : 2,\n",
    "    'Spelling' : 4,\n",
    "    'Grammar and Punctuation' : 5,\n",
    "    'Numeracy' : 6\n",
    "    }\n",
    "\n",
    "SchoolYearId = [3,5]\n",
    "d_SchoolYearId = {'Year 3' : 3, 'Year 5' : 5}"
   ]
  },
  {
   "cell_type": "code",
   "execution_count": null,
   "metadata": {},
   "outputs": [],
   "source": []
  },
  {
   "cell_type": "code",
   "execution_count": null,
   "metadata": {},
   "outputs": [],
   "source": []
  }
 ],
 "metadata": {
  "kernelspec": {
   "display_name": "Python (Courses)",
   "language": "python",
   "name": "courses"
  },
  "language_info": {
   "codemirror_mode": {
    "name": "ipython",
    "version": 3
   },
   "file_extension": ".py",
   "mimetype": "text/x-python",
   "name": "python",
   "nbconvert_exporter": "python",
   "pygments_lexer": "ipython3",
   "version": "3.6.6"
  }
 },
 "nbformat": 4,
 "nbformat_minor": 2
}
