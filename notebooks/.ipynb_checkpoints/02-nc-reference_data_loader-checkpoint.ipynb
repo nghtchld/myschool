{
 "cells": [
  {
   "cell_type": "code",
   "execution_count": null,
   "metadata": {},
   "outputs": [],
   "source": [
    "import pandas as pd\n",
    "import numpy as np\n",
    "import pickle\n",
    "import os\n",
    "\n",
    "#import xlrd\n",
    "#import requests"
   ]
  },
  {
   "cell_type": "code",
   "execution_count": 1,
   "metadata": {},
   "outputs": [],
   "source": [
    "# setting directories for file loads and saves\n",
    "\n",
    "data_dir = \"../data/raw/\"\n",
    "load_dir = save_dir = \"../data/interim/\"\n",
    "final_dir = \"../data/processed/\""
   ]
  },
  {
   "cell_type": "code",
   "execution_count": null,
   "metadata": {},
   "outputs": [],
   "source": [
    "# load the school profiles 2008 - 2017 spreadsheet as df: xl\n",
    "\n",
    "file = data_dir + \"school-profile-2008-2017.xlsx\"\n",
    "xl = pd.read_excel(file, sheet_name=\"School Profile\")\n",
    "\n",
    "# save df \n",
    "xl.to_pickle(data_dir + \"school_profiles_2008_2017_df.pickle\")"
   ]
  },
  {
   "cell_type": "code",
   "execution_count": null,
   "metadata": {},
   "outputs": [],
   "source": [
    "# generate a df for use in scrpaing loop: all_schools_sort_list\n",
    "\n",
    "all_schools_sort_list = ['Calendar Year', 'School Type', 'ACARA School ID']\n",
    "all_school_years_df = xl.iloc[:, [0,1,8,5]].sort_values(all_schools_sort_list\n",
    "                                                ).set_index('Calendar Year')\n",
    "\n",
    "all_school_years_df.to_pickle(save_dir + \"all_school_years_df.pickle\")\n",
    "\n",
    "all_school_years_df.head()"
   ]
  },
  {
   "cell_type": "code",
   "execution_count": null,
   "metadata": {},
   "outputs": [],
   "source": [
    "# generate a list of school IDs for one year and school type\n",
    "\n",
    "year_type_df = all_school_years_df.loc[(years_int[-1]) & (\n",
    "    all_school_years_df['School Type'] == 'Primary')]\n",
    "\n",
    "primary_2017_schoolID_list = year_df['ACARA School ID'].values.tolist()\n",
    "primary_2017_schoolID_list[:5]"
   ]
  },
  {
   "cell_type": "code",
   "execution_count": null,
   "metadata": {},
   "outputs": [],
   "source": []
  }
 ],
 "metadata": {
  "kernelspec": {
   "display_name": "Python (Courses)",
   "language": "python",
   "name": "courses"
  },
  "language_info": {
   "codemirror_mode": {
    "name": "ipython",
    "version": 3
   },
   "file_extension": ".py",
   "mimetype": "text/x-python",
   "name": "python",
   "nbconvert_exporter": "python",
   "pygments_lexer": "ipython3",
   "version": "3.6.6"
  }
 },
 "nbformat": 4,
 "nbformat_minor": 2
}
