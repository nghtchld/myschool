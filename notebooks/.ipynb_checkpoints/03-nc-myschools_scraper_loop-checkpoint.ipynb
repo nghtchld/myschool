{
 "cells": [
  {
   "cell_type": "markdown",
   "metadata": {},
   "source": [
    "# Loop of clean MySchool results code for scraping all results "
   ]
  },
  {
   "cell_type": "code",
   "execution_count": 1,
   "metadata": {},
   "outputs": [],
   "source": [
    "import pandas as pd\n",
    "import numpy as np\n",
    "import requests\n",
    "import re\n",
    "import pickle\n",
    "import time\n",
    "import os"
   ]
  },
  {
   "cell_type": "code",
   "execution_count": 11,
   "metadata": {},
   "outputs": [],
   "source": [
    "# setting directories for file loads and saves\n",
    "\n",
    "data_dir = \"../data/raw/\"\n",
    "load_dir = save_dir = \"../data/interim/\"\n",
    "final_dir = \"../data/processed/\""
   ]
  },
  {
   "cell_type": "markdown",
   "metadata": {},
   "source": [
    "## load in reference data files for scraper"
   ]
  },
  {
   "cell_type": "code",
   "execution_count": 12,
   "metadata": {},
   "outputs": [
    {
     "data": {
      "text/html": [
       "<div>\n",
       "<style scoped>\n",
       "    .dataframe tbody tr th:only-of-type {\n",
       "        vertical-align: middle;\n",
       "    }\n",
       "\n",
       "    .dataframe tbody tr th {\n",
       "        vertical-align: top;\n",
       "    }\n",
       "\n",
       "    .dataframe thead th {\n",
       "        text-align: right;\n",
       "    }\n",
       "</style>\n",
       "<table border=\"1\" class=\"dataframe\">\n",
       "  <thead>\n",
       "    <tr style=\"text-align: right;\">\n",
       "      <th></th>\n",
       "      <th>ACARA School ID</th>\n",
       "      <th>School Type</th>\n",
       "      <th>State</th>\n",
       "    </tr>\n",
       "    <tr>\n",
       "      <th>Calendar Year</th>\n",
       "      <th></th>\n",
       "      <th></th>\n",
       "      <th></th>\n",
       "    </tr>\n",
       "  </thead>\n",
       "  <tbody>\n",
       "    <tr>\n",
       "      <th>2008</th>\n",
       "      <td>40001</td>\n",
       "      <td>Combined</td>\n",
       "      <td>TAS</td>\n",
       "    </tr>\n",
       "    <tr>\n",
       "      <th>2008</th>\n",
       "      <td>40002</td>\n",
       "      <td>Combined</td>\n",
       "      <td>TAS</td>\n",
       "    </tr>\n",
       "    <tr>\n",
       "      <th>2008</th>\n",
       "      <td>40005</td>\n",
       "      <td>Combined</td>\n",
       "      <td>TAS</td>\n",
       "    </tr>\n",
       "    <tr>\n",
       "      <th>2008</th>\n",
       "      <td>40007</td>\n",
       "      <td>Combined</td>\n",
       "      <td>TAS</td>\n",
       "    </tr>\n",
       "    <tr>\n",
       "      <th>2008</th>\n",
       "      <td>40008</td>\n",
       "      <td>Combined</td>\n",
       "      <td>TAS</td>\n",
       "    </tr>\n",
       "  </tbody>\n",
       "</table>\n",
       "</div>"
      ],
      "text/plain": [
       "               ACARA School ID School Type State\n",
       "Calendar Year                                   \n",
       "2008                     40001    Combined   TAS\n",
       "2008                     40002    Combined   TAS\n",
       "2008                     40005    Combined   TAS\n",
       "2008                     40007    Combined   TAS\n",
       "2008                     40008    Combined   TAS"
      ]
     },
     "execution_count": 12,
     "metadata": {},
     "output_type": "execute_result"
    }
   ],
   "source": [
    "# testing directories\n",
    "all_school_years_df = pd.read_pickle(load_dir + \"all_school_years_df.pickle\")\n",
    "all_school_years_df.head()"
   ]
  },
  {
   "cell_type": "markdown",
   "metadata": {},
   "source": [
    "## import previously generated School IDs list\n",
    "The first school ID will be used in the URL and Request to start the loop\n",
    "* BIG TODO make DF or List of ALL schools for EACH results year! and use below\n",
    "* TODO write code for accessing latest school profile xlsx file from site and extracting just the 'ACARA School ID' values to a list / df"
   ]
  },
  {
   "cell_type": "code",
   "execution_count": null,
   "metadata": {},
   "outputs": [],
   "source": []
  },
  {
   "cell_type": "markdown",
   "metadata": {},
   "source": [
    "## global variables here"
   ]
  },
  {
   "cell_type": "code",
   "execution_count": 88,
   "metadata": {},
   "outputs": [
    {
     "data": {
      "text/plain": [
       "1"
      ]
     },
     "execution_count": 88,
     "metadata": {},
     "output_type": "execute_result"
    }
   ],
   "source": [
    "# params for Request and vars for loops\n",
    "SchoolYearId = \"5\"\n",
    "DomainId = [\"1\", \"2\", \"4\", \"5\", \"6\"]\n",
    "ViewModeId = \"0\"\n",
    "years_str = ['2008', '2009', '2010', '2011', '2012', '2013', '2014', '2015', '2016', '2017']\n",
    "years_int =  [int(y) for y in years_str]\n",
    "\n",
    "# DomainId dict \n",
    "dict_DomainId = {\n",
    "    '1' : 'Reading',\n",
    "    '2' : 'Writing',\n",
    "    '4' : 'Spelling',\n",
    "    '5' : 'Grammar and Punctuation',\n",
    "    '6' : 'Numeracy'\n",
    "    }\n",
    "\n",
    "# initialise remaining schools IDs list \n",
    "# in first phase, only generate a list for one year and school type\n",
    "one_year_all_schools_df = all_school_years_df.loc[(years_int[-1]) & (\n",
    "    all_school_years_df['School Type'] == 'Primary')]\n",
    "\n",
    "one_year_all_schools_list = one_year_all_schools_df['ACARA School ID'].values.tolist()\n",
    "\n",
    "remaining_schools_list = one_year_all_schools_list\n",
    "\n",
    "# initialise DF\n",
    "df_columns = ['schoolId', 'grade', 'year', 'domain', 'mean', 'lower', 'upper']\n",
    "results_df = pd.DataFrame(columns = df_columns)\n",
    "\n",
    "# initialise test vars\n",
    "last_school = 1"
   ]
  },
  {
   "cell_type": "markdown",
   "metadata": {},
   "source": [
    "### Re-initialise starting vars with mid-run values here"
   ]
  },
  {
   "cell_type": "code",
   "execution_count": null,
   "metadata": {},
   "outputs": [],
   "source": [
    "# Vars to change to restart scrape from middle of run\n",
    "# load previously scraped results df\n",
    "results_df = pd.read_csv(\"Courses/myschool/40151_results_df.csv\")\n",
    "\n",
    "# re-initialise test vars\n",
    "last_school = 1\n"
   ]
  },
  {
   "cell_type": "code",
   "execution_count": 123,
   "metadata": {},
   "outputs": [
    {
     "name": "stdout",
     "output_type": "stream",
     "text": [
      "next:  40153\n"
     ]
    },
    {
     "data": {
      "text/plain": [
       "'40151'"
      ]
     },
     "execution_count": 123,
     "metadata": {},
     "output_type": "execute_result"
    }
   ],
   "source": [
    "# load shool IDs list and pop errored \n",
    "f = open(\"remaining_schools_list.pickle\", \"rb\")\n",
    "remaining_schools_list = pickle.load(f)\n",
    "f.close()\n",
    "\n",
    "remaining_schools_list.pop(0)\n",
    "\n",
    "#check test vars not equal\n",
    "print('next: ',remaining_schools_list[0])\n",
    "last_school = 1\n",
    "next_school"
   ]
  },
  {
   "cell_type": "code",
   "execution_count": 178,
   "metadata": {},
   "outputs": [
    {
     "data": {
      "text/plain": [
       "[41800, 41801, 41804, 41805, 41806]"
      ]
     },
     "execution_count": 178,
     "metadata": {},
     "output_type": "execute_result"
    }
   ],
   "source": [
    "last_school = 1\n",
    "remaining_schools_list[:5]"
   ]
  },
  {
   "cell_type": "markdown",
   "metadata": {},
   "source": [
    "## Loop starts here"
   ]
  },
  {
   "cell_type": "code",
   "execution_count": 179,
   "metadata": {},
   "outputs": [
    {
     "name": "stdout",
     "output_type": "stream",
     "text": [
      "remaining schools: 2881 next school: 41800\n",
      "----End of Scrape!----\n"
     ]
    }
   ],
   "source": [
    "# initialise log file with run info\n",
    "log = open(\"log_myschools_runs.txt\", \"a+\")\n",
    "log.write('\\r\\n----New Run---- starting with next school: ' + next_school + '\\r\\n')\n",
    "# TODO add proper logging to project and or add DateTime stamp\n",
    "log.close()\n",
    "    \n",
    "# Outer Loop for ALL schools starts here\n",
    "while len(remaining_schools_list) > 0:\n",
    "    \n",
    "    # check that there are still schools remaining\n",
    "    if len(remaining_schools_list) == 0:\n",
    "        break\n",
    "        \n",
    "        \n",
    "    #setting a check var for infinite loop\n",
    "    last_school = next_school\n",
    "    \n",
    "    #select the next school ID for url request\n",
    "    next_school = str(remaining_schools_list[0])\n",
    "    \n",
    "    print('remaining schools:', len(remaining_schools_list),\n",
    "     'next school:', next_school)\n",
    "    \n",
    "    log = open(\"log_myschools_runs.txt\", \"a+\")\n",
    "    log.write('remaining schools: ' + str(len(remaining_schools_list)) \n",
    "              + ', next school: ' + str(next_school) + '\\n')\n",
    "    log.close()\n",
    "    \n",
    "    \n",
    "    #check that we are not in a loop over the same school\n",
    "    if next_school == last_school:\n",
    "        #write current data sets to file and then break download loop\n",
    "        results_df.to_csv(last_school + \"_results_df.csv\")\n",
    "        \n",
    "        pickle_on = open(\"remaining_schools_list.pickle\", \"wb\")\n",
    "        pickle.dump(remaining_schools_list, pickle_on)\n",
    "        pickle_on.close()\n",
    "        \n",
    "        f = open(last_school + \"_error_text.html\", \"w+\")\n",
    "        f.write(text)\n",
    "        f.close()\n",
    "        \n",
    "        break\n",
    "\n",
    "    time.sleep(1)\n",
    "    \n",
    "    # Inner loop 1 for ALL years loop starts here\n",
    "    #for y in range(len(years_str)):\n",
    "#    for y in '0':\n",
    "# CURRENTLY YEAR loop commented out for testing\n",
    "    url_year = years_str[-1]        \n",
    "#    time.sleep(1)\n",
    "    #print('Year: ', url_year)\n",
    "\n",
    "\n",
    "    # Inner loop 2 for ALL domains loop starts here \n",
    "    for d in range(len(DomainId)):\n",
    "        # Loop variables here\n",
    "        similar_schools_list = []\n",
    "        mean_list = []\n",
    "        lower_list = []\n",
    "        upper_list = []\n",
    "\n",
    "        # URL generation here\n",
    "        url = (\"https://www.myschool.edu.au/school/\" \n",
    "               + next_school\n",
    "               + \"/naplan/similar/\"\n",
    "               + url_year)\n",
    "        #print(url)\n",
    "\n",
    "        # adding data for POST to retrieve similar school list (ViewModeId = 1)\n",
    "        payload = {\"SchoolYearId\" : SchoolYearId, \n",
    "                   \"DomainId\" : DomainId[d], \n",
    "                   \"ViewModeId\" : ViewModeId}\n",
    "        #print(payload)\n",
    "\n",
    "        # Packages the request, send the request and catch the response: r\n",
    "        r = requests.post(url, data = payload)\n",
    "\n",
    "        # Extract the response: text\n",
    "        text = r.text\n",
    "\n",
    "        # check returned text is not an error page\n",
    "        # if it is an error page then try removing that schoolID and retry\n",
    "        if (len(re.findall('Server Error', text)) > 0 or\n",
    "            len(re.findall('Page Not Found', text)) > 0):\n",
    "            #remove errored schoolId from list, retry\n",
    "            remaining_schools_list.pop(0)\n",
    "            #set next_school value to foo so it doesn't break loop check\n",
    "            next_school = 'foo'\n",
    "\n",
    "            break\n",
    "\n",
    "        else:\n",
    "            # RE to scrape all the results from the request\n",
    "            similar_schools_list = re.findall(r'schoolId\\\\\":(\\d*)', text)\n",
    "            similar_schools_list = [int(i) for i in similar_schools_list]\n",
    "            mean_list = re.findall(r'mean\\\\\":(\\d*)', text)\n",
    "            mean_list = [int(i) for i in mean_list]\n",
    "            lower_list = re.findall(r'lowerMargin\\\\\":(\\d*)', text)\n",
    "            lower_list = [int(i) for i in lower_list]\n",
    "            upper_list = re.findall(r'upperMargin\\\\\":(\\d*)', text)\n",
    "            upper_list = [int(i) for i in upper_list]\n",
    "\n",
    "            # make the df from the results\n",
    "            temp_results_df = pd.DataFrame({'schoolId' : similar_schools_list, \n",
    "                                            'grade' : int(SchoolYearId), \n",
    "                                            'year' : int(url_year),\n",
    "                                            'domain' : dict_DomainId[DomainId[d]],\n",
    "                                            'mean' : mean_list, \n",
    "                                            'lower' : lower_list,\n",
    "                                            'upper' : upper_list}\n",
    "                                     ).sort_values(['schoolId'])\n",
    "\n",
    "            results_df = results_df.append(temp_results_df, ignore_index=True)\n",
    "            #print('size of results_df:', len(results_df['schoolId']))\n",
    "            #print('---------\\n')\n",
    "\n",
    "        #print('\\n-----------\\n----------\\nEnd ofallALL DOMAINS loop')\n",
    "        \n",
    "    # remove this group of schools from the all school ids list\n",
    "    remaining_schools_list = [x for x in remaining_schools_list if x not in similar_schools_list]\n",
    "\n",
    "        \n",
    "        \n",
    "    #print(remaining_schools_list[:5])\n",
    "    #print('\\n-------------------------------\\nEnd of all YEARS loop')\n",
    "    \n",
    "print('----End of Scrape!----')\n",
    "    "
   ]
  },
  {
   "cell_type": "code",
   "execution_count": 165,
   "metadata": {},
   "outputs": [],
   "source": [
    "# Upon error above, save current results and sub-results by running this\n",
    "results_df.to_csv(last_school + \"_results_df.csv\")\n",
    "\n",
    "pickle_on = open(\"remaining_schools_list.pickle\", \"wb\")\n",
    "pickle.dump(remaining_schools_list, pickle_on)\n",
    "pickle_on.close()\n",
    "\n",
    "f = open(last_school + \"_error_text.html\", \"w+\")\n",
    "f.write(text)\n",
    "f.close()"
   ]
  },
  {
   "cell_type": "code",
   "execution_count": null,
   "metadata": {},
   "outputs": [],
   "source": [
    "# common error: ValueError: arrays must all be same length\n",
    "# check that results lists have the same length\n",
    "print(len(similar_schools_list), len(mean_list), \n",
    "      len(lower_list), len(upper_list))"
   ]
  },
  {
   "cell_type": "code",
   "execution_count": 185,
   "metadata": {},
   "outputs": [],
   "source": [
    "results_df.to_csv(\"2017_year_5_results_df.csv\")"
   ]
  },
  {
   "cell_type": "code",
   "execution_count": 182,
   "metadata": {},
   "outputs": [
    {
     "name": "stdout",
     "output_type": "stream",
     "text": [
      "<class 'pandas.core.frame.DataFrame'>\n",
      "RangeIndex: 42977 entries, 0 to 42976\n",
      "Data columns (total 7 columns):\n",
      "schoolId    42977 non-null object\n",
      "grade       42977 non-null object\n",
      "year        42977 non-null object\n",
      "domain      42977 non-null object\n",
      "mean        42977 non-null object\n",
      "lower       42977 non-null object\n",
      "upper       42977 non-null object\n",
      "dtypes: object(7)\n",
      "memory usage: 2.3+ MB\n"
     ]
    }
   ],
   "source": [
    "results_df.info()"
   ]
  },
  {
   "cell_type": "code",
   "execution_count": 143,
   "metadata": {},
   "outputs": [],
   "source": [
    "# if you can correct results from errored run, then append df\n",
    "temp_results_df = pd.DataFrame({'schoolId' : similar_schools_list, \n",
    "                                            'grade' : int(SchoolYearId), \n",
    "                                            'year' : int(url_year),\n",
    "                                            'domain' : dict_DomainId[DomainId[d]],\n",
    "                                            'mean' : mean_list, \n",
    "                                            'lower' : lower_list,\n",
    "                                            'upper' : upper_list}\n",
    "                                     ).sort_values(['schoolId'])\n",
    "\n",
    "results_df = results_df.append(temp_results_df, ignore_index=True)"
   ]
  },
  {
   "cell_type": "code",
   "execution_count": null,
   "metadata": {},
   "outputs": [],
   "source": []
  },
  {
   "cell_type": "code",
   "execution_count": 183,
   "metadata": {},
   "outputs": [
    {
     "data": {
      "text/html": [
       "<div>\n",
       "<style scoped>\n",
       "    .dataframe tbody tr th:only-of-type {\n",
       "        vertical-align: middle;\n",
       "    }\n",
       "\n",
       "    .dataframe tbody tr th {\n",
       "        vertical-align: top;\n",
       "    }\n",
       "\n",
       "    .dataframe thead th {\n",
       "        text-align: right;\n",
       "    }\n",
       "</style>\n",
       "<table border=\"1\" class=\"dataframe\">\n",
       "  <thead>\n",
       "    <tr style=\"text-align: right;\">\n",
       "      <th></th>\n",
       "      <th>schoolId</th>\n",
       "      <th>grade</th>\n",
       "      <th>year</th>\n",
       "      <th>domain</th>\n",
       "      <th>mean</th>\n",
       "      <th>lower</th>\n",
       "      <th>upper</th>\n",
       "    </tr>\n",
       "  </thead>\n",
       "  <tbody>\n",
       "    <tr>\n",
       "      <th>42972</th>\n",
       "      <td>41798</td>\n",
       "      <td>5</td>\n",
       "      <td>2017</td>\n",
       "      <td>Reading</td>\n",
       "      <td>398</td>\n",
       "      <td>347</td>\n",
       "      <td>450</td>\n",
       "    </tr>\n",
       "    <tr>\n",
       "      <th>42973</th>\n",
       "      <td>41798</td>\n",
       "      <td>5</td>\n",
       "      <td>2017</td>\n",
       "      <td>Writing</td>\n",
       "      <td>158</td>\n",
       "      <td>115</td>\n",
       "      <td>202</td>\n",
       "    </tr>\n",
       "    <tr>\n",
       "      <th>42974</th>\n",
       "      <td>41798</td>\n",
       "      <td>5</td>\n",
       "      <td>2017</td>\n",
       "      <td>Spelling</td>\n",
       "      <td>343</td>\n",
       "      <td>299</td>\n",
       "      <td>387</td>\n",
       "    </tr>\n",
       "    <tr>\n",
       "      <th>42975</th>\n",
       "      <td>41798</td>\n",
       "      <td>5</td>\n",
       "      <td>2017</td>\n",
       "      <td>Grammar and Punctuation</td>\n",
       "      <td>116</td>\n",
       "      <td>66</td>\n",
       "      <td>166</td>\n",
       "    </tr>\n",
       "    <tr>\n",
       "      <th>42976</th>\n",
       "      <td>41798</td>\n",
       "      <td>5</td>\n",
       "      <td>2017</td>\n",
       "      <td>Numeracy</td>\n",
       "      <td>412</td>\n",
       "      <td>372</td>\n",
       "      <td>453</td>\n",
       "    </tr>\n",
       "  </tbody>\n",
       "</table>\n",
       "</div>"
      ],
      "text/plain": [
       "      schoolId grade  year                   domain mean lower upper\n",
       "42972    41798     5  2017                  Reading  398   347   450\n",
       "42973    41798     5  2017                  Writing  158   115   202\n",
       "42974    41798     5  2017                 Spelling  343   299   387\n",
       "42975    41798     5  2017  Grammar and Punctuation  116    66   166\n",
       "42976    41798     5  2017                 Numeracy  412   372   453"
      ]
     },
     "execution_count": 183,
     "metadata": {},
     "output_type": "execute_result"
    }
   ],
   "source": [
    "results_df.tail(5)"
   ]
  },
  {
   "cell_type": "code",
   "execution_count": 148,
   "metadata": {},
   "outputs": [
    {
     "name": "stdout",
     "output_type": "stream",
     "text": [
      "<class 'pandas.core.frame.DataFrame'>\n",
      "RangeIndex: 42976 entries, 0 to 42975\n",
      "Data columns (total 7 columns):\n",
      "schoolId    42976 non-null object\n",
      "grade       42976 non-null object\n",
      "year        42976 non-null object\n",
      "domain      42976 non-null object\n",
      "mean        42976 non-null object\n",
      "lower       42976 non-null object\n",
      "upper       42976 non-null object\n",
      "dtypes: object(7)\n",
      "memory usage: 2.3+ MB\n"
     ]
    }
   ],
   "source": [
    "results_df.info()"
   ]
  },
  {
   "cell_type": "code",
   "execution_count": 156,
   "metadata": {},
   "outputs": [],
   "source": [
    "temp_results_df = pd.DataFrame({'schoolId' : '41798', \n",
    "                                'grade' : int(SchoolYearId), \n",
    "                                'year' : int(url_year),\n",
    "                                'domain' : 'Numeracy',\n",
    "                                'mean' : '412', \n",
    "                                'lower' : '372',\n",
    "                                'upper' : '453'}, index=[42976]\n",
    "                                     )\n",
    "\n",
    "results_df = results_df.append(temp_results_df, ignore_index=True)"
   ]
  },
  {
   "cell_type": "code",
   "execution_count": 159,
   "metadata": {},
   "outputs": [
    {
     "name": "stdout",
     "output_type": "stream",
     "text": [
      "9543 3374\n"
     ]
    },
    {
     "data": {
      "text/plain": [
       "[40021, 40045, 40049, 40050, 40051, 40052, 40053, 40054, 40057, 40058]"
      ]
     },
     "execution_count": 159,
     "metadata": {},
     "output_type": "execute_result"
    }
   ],
   "source": [
    "one_year_all_schools_df = all_school_years_df.loc[years_int[-1]]\n",
    "one_year_all_schools_list = one_year_all_schools_df['ACARA School ID'].values.tolist()\n",
    "remaining_schools_list = ([x for x in one_year_all_schools_list \n",
    "                           if x not in results_df['schoolId'].values.tolist()])\n",
    "print(len(one_year_all_schools_list), len(remaining_schools_list))\n",
    "remaining_schools_list[:10]"
   ]
  },
  {
   "cell_type": "code",
   "execution_count": 160,
   "metadata": {},
   "outputs": [
    {
     "name": "stdout",
     "output_type": "stream",
     "text": [
      "9543 2891\n"
     ]
    },
    {
     "data": {
      "text/plain": [
       "[41726, 41790, 41791, 41792, 41793, 41794, 41795, 41796, 41797, 41799]"
      ]
     },
     "execution_count": 160,
     "metadata": {},
     "output_type": "execute_result"
    }
   ],
   "source": [
    "remaining_schools_list = [x for x in remaining_schools_list if x > 41725]\n",
    "print(len(one_year_all_schools_list), len(remaining_schools_list))\n",
    "remaining_schools_list[:10]"
   ]
  },
  {
   "cell_type": "code",
   "execution_count": 164,
   "metadata": {},
   "outputs": [
    {
     "data": {
      "text/plain": [
       "[41800, 41801, 41804, 41805, 41806, 41807, 41808, 41809, 41810, 41811]"
      ]
     },
     "execution_count": 164,
     "metadata": {},
     "output_type": "execute_result"
    }
   ],
   "source": [
    "del remaining_schools_list[:8]\n",
    "remaining_schools_list[:10]"
   ]
  },
  {
   "cell_type": "code",
   "execution_count": null,
   "metadata": {},
   "outputs": [],
   "source": []
  },
  {
   "cell_type": "code",
   "execution_count": 139,
   "metadata": {},
   "outputs": [],
   "source": []
  },
  {
   "cell_type": "code",
   "execution_count": null,
   "metadata": {},
   "outputs": [],
   "source": []
  },
  {
   "cell_type": "code",
   "execution_count": null,
   "metadata": {},
   "outputs": [],
   "source": []
  }
 ],
 "metadata": {
  "kernelspec": {
   "display_name": "Python (Courses)",
   "language": "python",
   "name": "courses"
  },
  "language_info": {
   "codemirror_mode": {
    "name": "ipython",
    "version": 3
   },
   "file_extension": ".py",
   "mimetype": "text/x-python",
   "name": "python",
   "nbconvert_exporter": "python",
   "pygments_lexer": "ipython3",
   "version": "3.6.6"
  }
 },
 "nbformat": 4,
 "nbformat_minor": 2
}
